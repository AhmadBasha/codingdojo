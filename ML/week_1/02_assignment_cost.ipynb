{
 "cells": [
  {
   "cell_type": "markdown",
   "metadata": {
    "id": "view-in-github"
   },
   "source": [
    "<a href=\"https://colab.research.google.com/github/gumdropsteve/intro_to_machine_learning/blob/main/day_02/02_assignment_cost.ipynb\" target=\"_parent\"><img src=\"https://colab.research.google.com/assets/colab-badge.svg\" alt=\"Open In Colab\"/></a>"
   ]
  },
  {
   "cell_type": "code",
   "execution_count": 1,
   "metadata": {
    "executionInfo": {
     "elapsed": 6768,
     "status": "ok",
     "timestamp": 1623504766030,
     "user": {
      "displayName": "Mikio Harman",
      "photoUrl": "",
      "userId": "02010985210266587860"
     },
     "user_tz": 420
    },
    "id": "0DBsWMnDfWJN"
   },
   "outputs": [],
   "source": [
    "%%capture\n",
    "# STARTER CODE - RUN THIS CELL - DO NOT CHANGE\n",
    "!pip install category_encoders\n",
    "import seaborn as sns\n",
    "import pandas as pd\n",
    "import numpy as np\n",
    "import matplotlib.pyplot as plt\n",
    "import category_encoders as ce\n",
    "from sklearn.linear_model import LinearRegression, LogisticRegression\n",
    "from sklearn.preprocessing import StandardScaler\n",
    "from sklearn.model_selection import train_test_split\n",
    "from sklearn.pipeline import make_pipeline\n",
    "from sklearn.metrics import mean_squared_error, mean_absolute_error, accuracy_score, accuracy_score, recall_score, precision_score\n",
    "df_r = sns.load_dataset(\"tips\").dropna()\n",
    "df_c = sns.load_dataset(\"titanic\").dropna()\n",
    "model_r = LinearRegression()\n",
    "model_c = LogisticRegression()\n",
    "x_train_r, x_test_r, y_train_r, y_test_r = train_test_split(df_r.drop(\"total_bill\", axis=1), df_r[\"total_bill\"])\n",
    "x_train_c, x_test_c, y_train_c, y_test_c = train_test_split(df_c.drop([\"survived\", \"alive\", \"adult_male\"], axis=1), df_c[\"survived\"])\n",
    "pipe_r = make_pipeline(ce.OrdinalEncoder(), StandardScaler(), LinearRegression()).fit(x_train_r, y_train_r)\n",
    "pipe_c = make_pipeline(ce.OrdinalEncoder(), StandardScaler(), LogisticRegression()).fit(x_train_c, y_train_c)\n",
    "y_pred_r = pipe_r.predict(x_test_r)\n",
    "y_pred_c = pipe_c.predict(x_test_c)"
   ]
  },
  {
   "cell_type": "markdown",
   "metadata": {
    "id": "JA6ub2bZemNP"
   },
   "source": [
    "# Cost Functions\n",
    "\n",
    "- Without importing any libraries please write a cost function for each of the following listed below.\n",
    "- Do not refrence ANY online resources other than whats provided\n",
    "\n",
    "You can only use these resources, `pandas` and `numpy` to make your functions:\n",
    "- [Mean Squared Error](https://en.wikipedia.org/wiki/Mean_squared_error)\n",
    "- [Mean Absolute Error](https://en.wikipedia.org/wiki/Mean_absolute_error)\n",
    "- [Root Mean Squared Error](https://en.wikipedia.org/wiki/Root-mean-square_deviation)\n",
    "- [Residual Sum of Squares](https://en.wikipedia.org/wiki/Residual_sum_of_squares)\n",
    "- [Precision, Recall, Accuracy](https://en.wikipedia.org/wiki/Confusion_matrix)\n",
    "- [Scikit-Learn](https://scikit-learn.org/stable/index.html)"
   ]
  },
  {
   "cell_type": "markdown",
   "metadata": {
    "id": "39_TltPpf60I"
   },
   "source": [
    "#### Regression Cost Functions\n",
    "\n",
    "- Use `y_test_r` as your true labels\n",
    "- Use `y_pred_r` as your predicted labels"
   ]
  },
  {
   "cell_type": "code",
   "execution_count": 5,
   "metadata": {
    "executionInfo": {
     "elapsed": 170,
     "status": "ok",
     "timestamp": 1623504771625,
     "user": {
      "displayName": "Mikio Harman",
      "photoUrl": "",
      "userId": "02010985210266587860"
     },
     "user_tz": 420
    },
    "id": "LgU4Ke0Cd3gw"
   },
   "outputs": [
    {
     "data": {
      "text/plain": [
       "36.432186050556204"
      ]
     },
     "execution_count": 5,
     "metadata": {},
     "output_type": "execute_result"
    }
   ],
   "source": [
    "# Create a Mean Squared Error Function\n",
    "def mse(y_true, y_pred):\n",
    "    mse = (y_true - y_pred)**2\n",
    "    error_mse_sum = mse.sum()\n",
    "    mse_result = error_mse_sum/len(mse)\n",
    "    return mse_result\n",
    "    \n",
    "mse(y_test_r, y_pred_r)"
   ]
  },
  {
   "cell_type": "code",
   "execution_count": 6,
   "metadata": {
    "colab": {
     "base_uri": "https://localhost:8080/"
    },
    "executionInfo": {
     "elapsed": 198,
     "status": "ok",
     "timestamp": 1623504773442,
     "user": {
      "displayName": "Mikio Harman",
      "photoUrl": "",
      "userId": "02010985210266587860"
     },
     "user_tz": 420
    },
    "id": "Eyp3WVY_tuBz",
    "outputId": "5eb033f9-9b26-499c-bc66-6b6a154f30ea"
   },
   "outputs": [
    {
     "data": {
      "text/plain": [
       "36.432186050556204"
      ]
     },
     "execution_count": 6,
     "metadata": {},
     "output_type": "execute_result"
    }
   ],
   "source": [
    "# Your Mean Squared Error function should equal this value\n",
    "mean_squared_error(y_test_r, y_pred_r)"
   ]
  },
  {
   "cell_type": "code",
   "execution_count": 10,
   "metadata": {
    "executionInfo": {
     "elapsed": 6,
     "status": "ok",
     "timestamp": 1623504774163,
     "user": {
      "displayName": "Mikio Harman",
      "photoUrl": "",
      "userId": "02010985210266587860"
     },
     "user_tz": 420
    },
    "id": "n-B-pkxtfAtI"
   },
   "outputs": [
    {
     "data": {
      "text/plain": [
       "4.265257030595408"
      ]
     },
     "execution_count": 10,
     "metadata": {},
     "output_type": "execute_result"
    }
   ],
   "source": [
    "# Create a Mean Absolute Error Function\n",
    "def mae(y_true, y_pred):\n",
    "    \n",
    "    MAE = abs(y_true - y_pred)  \n",
    "    error_MAE_sum = MAE.sum()\n",
    "    MAE_result = error_MAE_sum/len(MAE)\n",
    "    return MAE_result\n",
    "\n",
    "mae(y_test_r, y_pred_r)"
   ]
  },
  {
   "cell_type": "code",
   "execution_count": 11,
   "metadata": {
    "colab": {
     "base_uri": "https://localhost:8080/"
    },
    "executionInfo": {
     "elapsed": 5,
     "status": "ok",
     "timestamp": 1623504774164,
     "user": {
      "displayName": "Mikio Harman",
      "photoUrl": "",
      "userId": "02010985210266587860"
     },
     "user_tz": 420
    },
    "id": "8ZzkyvrSuCkc",
    "outputId": "292eafaf-94b0-4631-9256-9bf234551f05"
   },
   "outputs": [
    {
     "data": {
      "text/plain": [
       "4.265257030595408"
      ]
     },
     "execution_count": 11,
     "metadata": {},
     "output_type": "execute_result"
    }
   ],
   "source": [
    "# Your Mean Absolute Error function should equal this value\n",
    "mean_absolute_error(y_test_r, y_pred_r)"
   ]
  },
  {
   "cell_type": "code",
   "execution_count": 13,
   "metadata": {
    "executionInfo": {
     "elapsed": 142,
     "status": "ok",
     "timestamp": 1623504802727,
     "user": {
      "displayName": "Mikio Harman",
      "photoUrl": "",
      "userId": "02010985210266587860"
     },
     "user_tz": 420
    },
    "id": "w4nobsDJfk4L"
   },
   "outputs": [
    {
     "data": {
      "text/plain": [
       "6.035908055177464"
      ]
     },
     "execution_count": 13,
     "metadata": {},
     "output_type": "execute_result"
    }
   ],
   "source": [
    "# Create a Root Mean Squared Error Function\n",
    "def rmse(y_true, y_pred):\n",
    "    rsme = (y_true - y_pred)**2\n",
    "    error_RMSD_mean = rsme.mean()\n",
    "    error_RMSD_sqrt = error_RMSD_mean**0.5\n",
    "    return error_RMSD_sqrt\n",
    "    \n",
    "\n",
    "rmse(y_test_r, y_pred_r)"
   ]
  },
  {
   "cell_type": "code",
   "execution_count": 14,
   "metadata": {
    "colab": {
     "base_uri": "https://localhost:8080/"
    },
    "executionInfo": {
     "elapsed": 5,
     "status": "ok",
     "timestamp": 1623504776181,
     "user": {
      "displayName": "Mikio Harman",
      "photoUrl": "",
      "userId": "02010985210266587860"
     },
     "user_tz": 420
    },
    "id": "WswkpQCruRyb",
    "outputId": "a51e69fd-43d4-4bfd-abec-d4ffd9d85a74"
   },
   "outputs": [
    {
     "data": {
      "text/plain": [
       "6.035908055177464"
      ]
     },
     "execution_count": 14,
     "metadata": {},
     "output_type": "execute_result"
    }
   ],
   "source": [
    "# Your Root Mean Squared Error function should equal this value\n",
    "mean_squared_error(y_test_r, y_pred_r, squared=False)"
   ]
  },
  {
   "cell_type": "code",
   "execution_count": 15,
   "metadata": {
    "executionInfo": {
     "elapsed": 154,
     "status": "ok",
     "timestamp": 1623504793193,
     "user": {
      "displayName": "Mikio Harman",
      "photoUrl": "",
      "userId": "02010985210266587860"
     },
     "user_tz": 420
    },
    "id": "RcuwEx9qd_hq"
   },
   "outputs": [
    {
     "data": {
      "text/plain": [
       "2222.3633490839284"
      ]
     },
     "execution_count": 15,
     "metadata": {},
     "output_type": "execute_result"
    }
   ],
   "source": [
    "# Create a Sum of Squared Error Function\n",
    "def rss(y_true, y_pred):\n",
    "    rss = (y_true-y_pred)**2\n",
    "    error_RSS_sum = rss.sum()\n",
    "    return error_RSS_sum\n",
    "\n",
    "rss(y_test_r, y_pred_r)"
   ]
  },
  {
   "cell_type": "markdown",
   "metadata": {
    "id": "fYpJ2jdYf-Et"
   },
   "source": [
    "#### Classification Cost Functions\n",
    "\n",
    "- Use `y_test_c` as your true labels\n",
    "- Use `y_pred_c` as your predicted labels"
   ]
  },
  {
   "cell_type": "code",
   "execution_count": 38,
   "metadata": {
    "executionInfo": {
     "elapsed": 3,
     "status": "ok",
     "timestamp": 1623504778418,
     "user": {
      "displayName": "Mikio Harman",
      "photoUrl": "",
      "userId": "02010985210266587860"
     },
     "user_tz": 420
    },
    "id": "aipG_B_7h3yI"
   },
   "outputs": [
    {
     "name": "stdout",
     "output_type": "stream",
     "text": [
      "True Positives: [1, 1, 1, 1, 1, 1, 1, 1, 1, 1, 1, 1, 1, 1, 1, 1, 1, 1, 1, 1, 1, 1, 1, 1]\n",
      "True Negatives: [1, 1, 1, 1, 1, 1, 1, 1, 1, 1]\n",
      "False Positives: [1, 1, 1, 1]\n",
      "False Negatives: [1, 1, 1, 1, 1, 1, 1, 1]\n"
     ]
    }
   ],
   "source": [
    "\n",
    "# Replace None with the correct value value\n",
    "true_positive = []\n",
    "true_negative = []\n",
    "false_positive = []\n",
    "false_negative = []\n",
    "\n",
    "# Here is some starter code but you can solve this problem any way you want\n",
    "# Write a loop to identify true positives, false negatives, false positives, and true negatives\n",
    "\n",
    "for x in range(len(y_test_c)):\n",
    "    if y_test_c.iloc[x] == y_pred_c[x]:\n",
    "        if y_pred_c[x] == 1:\n",
    "            true_positive.append(1)  # add 1 to the true_positive, true_negative, false_positive or false_negative count (do this for each pass, each of the 4 should be represented once)\n",
    "        if y_pred_c[x] == 0:\n",
    "            true_negative.append(1)\n",
    "    if y_test_c.iloc[x] != y_pred_c[x]:\n",
    "        if y_pred_c[x] == 1:\n",
    "            false_positive.append(1)\n",
    "        if y_pred_c[x] == 0:\n",
    "            false_negative.append(1)\n",
    "\n",
    "# Uncomment below when your loop works to see totals of each\n",
    "print(f\"True Positives: {true_positive}\\nTrue Negatives: {true_negative}\\nFalse Positives: {false_positive}\\nFalse Negatives: {false_negative}\")"
   ]
  },
  {
   "cell_type": "code",
   "execution_count": 42,
   "metadata": {
    "executionInfo": {
     "elapsed": 3,
     "status": "ok",
     "timestamp": 1623504779660,
     "user": {
      "displayName": "Mikio Harman",
      "photoUrl": "",
      "userId": "02010985210266587860"
     },
     "user_tz": 420
    },
    "id": "Q3Ctlw2heCig"
   },
   "outputs": [
    {
     "data": {
      "text/plain": [
       "0.8571428571428571"
      ]
     },
     "execution_count": 42,
     "metadata": {},
     "output_type": "execute_result"
    }
   ],
   "source": [
    "# Create A Function to Calculate Precision\n",
    "def precision(TP, FP):\n",
    "    tp = sum(TP)\n",
    "    fp= sum(FP)\n",
    "    precision_result = tp / (tp+fp)\n",
    "    return precision_result\n",
    "\n",
    "precision(true_positive, false_positive)"
   ]
  },
  {
   "cell_type": "code",
   "execution_count": 43,
   "metadata": {
    "colab": {
     "base_uri": "https://localhost:8080/"
    },
    "executionInfo": {
     "elapsed": 4,
     "status": "ok",
     "timestamp": 1623504780407,
     "user": {
      "displayName": "Mikio Harman",
      "photoUrl": "",
      "userId": "02010985210266587860"
     },
     "user_tz": 420
    },
    "id": "UpzJxKZJqz9S",
    "outputId": "53c67fc4-347e-41d6-ed62-8f3eeff1fec3"
   },
   "outputs": [
    {
     "data": {
      "text/plain": [
       "0.8571428571428571"
      ]
     },
     "execution_count": 43,
     "metadata": {},
     "output_type": "execute_result"
    }
   ],
   "source": [
    "# Your precision function should equal this value\n",
    "precision_score(y_test_c, y_pred_c)"
   ]
  },
  {
   "cell_type": "code",
   "execution_count": 44,
   "metadata": {
    "executionInfo": {
     "elapsed": 144,
     "status": "ok",
     "timestamp": 1623504781181,
     "user": {
      "displayName": "Mikio Harman",
      "photoUrl": "",
      "userId": "02010985210266587860"
     },
     "user_tz": 420
    },
    "id": "rAX5khvCedHC"
   },
   "outputs": [
    {
     "data": {
      "text/plain": [
       "0.75"
      ]
     },
     "execution_count": 44,
     "metadata": {},
     "output_type": "execute_result"
    }
   ],
   "source": [
    "# Create A Function to Calculate Recall\n",
    "def recall(TP, FN):\n",
    "    tp = sum(TP)\n",
    "    fn= sum(FN)\n",
    "    recall_result = tp / (tp+fn)\n",
    "    return recall_result\n",
    "\n",
    "recall(true_positive, false_negative)"
   ]
  },
  {
   "cell_type": "code",
   "execution_count": 45,
   "metadata": {
    "colab": {
     "base_uri": "https://localhost:8080/"
    },
    "executionInfo": {
     "elapsed": 140,
     "status": "ok",
     "timestamp": 1623504781945,
     "user": {
      "displayName": "Mikio Harman",
      "photoUrl": "",
      "userId": "02010985210266587860"
     },
     "user_tz": 420
    },
    "id": "sPin2Q9Zqk-X",
    "outputId": "28ecab85-fb28-4cda-ea18-29a1104a1a84"
   },
   "outputs": [
    {
     "data": {
      "text/plain": [
       "0.75"
      ]
     },
     "execution_count": 45,
     "metadata": {},
     "output_type": "execute_result"
    }
   ],
   "source": [
    "# Your recall function should equal this value\n",
    "recall_score(y_test_c, y_pred_c)"
   ]
  },
  {
   "cell_type": "code",
   "execution_count": 46,
   "metadata": {
    "executionInfo": {
     "elapsed": 3,
     "status": "ok",
     "timestamp": 1623504782502,
     "user": {
      "displayName": "Mikio Harman",
      "photoUrl": "",
      "userId": "02010985210266587860"
     },
     "user_tz": 420
    },
    "id": "RQ8YleBTegvn"
   },
   "outputs": [
    {
     "data": {
      "text/plain": [
       "0.7391304347826086"
      ]
     },
     "execution_count": 46,
     "metadata": {},
     "output_type": "execute_result"
    }
   ],
   "source": [
    "# Create a Function to Calculate Accuracy\n",
    "def accuracy(TP, FP, TN, FN):\n",
    "    tp = sum(TP)\n",
    "    fp= sum(FP)\n",
    "    tn = sum(TN)\n",
    "    fn= sum(FN)\n",
    "    \n",
    "    accuracy_result = (tp+tn)/(tp+fp+tn+fn)\n",
    "    \n",
    "    return accuracy_result\n",
    "\n",
    "accuracy(true_positive, false_positive, true_negative, false_negative)"
   ]
  },
  {
   "cell_type": "code",
   "execution_count": 47,
   "metadata": {
    "colab": {
     "base_uri": "https://localhost:8080/"
    },
    "executionInfo": {
     "elapsed": 3,
     "status": "ok",
     "timestamp": 1623504783356,
     "user": {
      "displayName": "Mikio Harman",
      "photoUrl": "",
      "userId": "02010985210266587860"
     },
     "user_tz": 420
    },
    "id": "tzNMG0PmqSkn",
    "outputId": "29c60b21-f644-4ba1-d93e-ff036e7d9ae2"
   },
   "outputs": [
    {
     "data": {
      "text/plain": [
       "0.7391304347826086"
      ]
     },
     "execution_count": 47,
     "metadata": {},
     "output_type": "execute_result"
    }
   ],
   "source": [
    "# Your accuracy score function should equal this value\n",
    "accuracy_score(y_test_c, y_pred_c)"
   ]
  },
  {
   "cell_type": "code",
   "execution_count": 48,
   "metadata": {},
   "outputs": [],
   "source": [
    "########################"
   ]
  },
  {
   "cell_type": "code",
   "execution_count": 49,
   "metadata": {},
   "outputs": [],
   "source": [
    "# Load Data\n",
    "df = pd.read_csv('seattle_weather_1948-2017.csv')"
   ]
  },
  {
   "cell_type": "code",
   "execution_count": 50,
   "metadata": {},
   "outputs": [],
   "source": [
    "#fill na \n",
    "df['RAIN'] = df['RAIN'].fillna(False)\n",
    "df['PRCP'].fillna(df['PRCP'].mean(), inplace=True)"
   ]
  },
  {
   "cell_type": "code",
   "execution_count": 51,
   "metadata": {},
   "outputs": [
    {
     "data": {
      "text/plain": [
       "0.10622162204477957"
      ]
     },
     "execution_count": 51,
     "metadata": {},
     "output_type": "execute_result"
    }
   ],
   "source": [
    "# check the mean for \"PRCP\"\n",
    "df['PRCP'].mean()"
   ]
  },
  {
   "cell_type": "code",
   "execution_count": 53,
   "metadata": {},
   "outputs": [
    {
     "data": {
      "text/html": [
       "<div>\n",
       "<style scoped>\n",
       "    .dataframe tbody tr th:only-of-type {\n",
       "        vertical-align: middle;\n",
       "    }\n",
       "\n",
       "    .dataframe tbody tr th {\n",
       "        vertical-align: top;\n",
       "    }\n",
       "\n",
       "    .dataframe thead th {\n",
       "        text-align: right;\n",
       "    }\n",
       "</style>\n",
       "<table border=\"1\" class=\"dataframe\">\n",
       "  <thead>\n",
       "    <tr style=\"text-align: right;\">\n",
       "      <th></th>\n",
       "      <th>DATE</th>\n",
       "      <th>PRCP</th>\n",
       "      <th>TMAX</th>\n",
       "      <th>TMIN</th>\n",
       "      <th>RAIN</th>\n",
       "    </tr>\n",
       "  </thead>\n",
       "  <tbody>\n",
       "    <tr>\n",
       "      <th>0</th>\n",
       "      <td>1948-01-01</td>\n",
       "      <td>0.47</td>\n",
       "      <td>51</td>\n",
       "      <td>42</td>\n",
       "      <td>True</td>\n",
       "    </tr>\n",
       "    <tr>\n",
       "      <th>1</th>\n",
       "      <td>1948-01-02</td>\n",
       "      <td>0.59</td>\n",
       "      <td>45</td>\n",
       "      <td>36</td>\n",
       "      <td>True</td>\n",
       "    </tr>\n",
       "    <tr>\n",
       "      <th>2</th>\n",
       "      <td>1948-01-03</td>\n",
       "      <td>0.42</td>\n",
       "      <td>45</td>\n",
       "      <td>35</td>\n",
       "      <td>True</td>\n",
       "    </tr>\n",
       "    <tr>\n",
       "      <th>3</th>\n",
       "      <td>1948-01-04</td>\n",
       "      <td>0.31</td>\n",
       "      <td>45</td>\n",
       "      <td>34</td>\n",
       "      <td>True</td>\n",
       "    </tr>\n",
       "    <tr>\n",
       "      <th>4</th>\n",
       "      <td>1948-01-05</td>\n",
       "      <td>0.17</td>\n",
       "      <td>45</td>\n",
       "      <td>32</td>\n",
       "      <td>True</td>\n",
       "    </tr>\n",
       "    <tr>\n",
       "      <th>...</th>\n",
       "      <td>...</td>\n",
       "      <td>...</td>\n",
       "      <td>...</td>\n",
       "      <td>...</td>\n",
       "      <td>...</td>\n",
       "    </tr>\n",
       "    <tr>\n",
       "      <th>25546</th>\n",
       "      <td>2017-12-10</td>\n",
       "      <td>0.00</td>\n",
       "      <td>49</td>\n",
       "      <td>34</td>\n",
       "      <td>False</td>\n",
       "    </tr>\n",
       "    <tr>\n",
       "      <th>25547</th>\n",
       "      <td>2017-12-11</td>\n",
       "      <td>0.00</td>\n",
       "      <td>49</td>\n",
       "      <td>29</td>\n",
       "      <td>False</td>\n",
       "    </tr>\n",
       "    <tr>\n",
       "      <th>25548</th>\n",
       "      <td>2017-12-12</td>\n",
       "      <td>0.00</td>\n",
       "      <td>46</td>\n",
       "      <td>32</td>\n",
       "      <td>False</td>\n",
       "    </tr>\n",
       "    <tr>\n",
       "      <th>25549</th>\n",
       "      <td>2017-12-13</td>\n",
       "      <td>0.00</td>\n",
       "      <td>48</td>\n",
       "      <td>34</td>\n",
       "      <td>False</td>\n",
       "    </tr>\n",
       "    <tr>\n",
       "      <th>25550</th>\n",
       "      <td>2017-12-14</td>\n",
       "      <td>0.00</td>\n",
       "      <td>50</td>\n",
       "      <td>36</td>\n",
       "      <td>False</td>\n",
       "    </tr>\n",
       "  </tbody>\n",
       "</table>\n",
       "<p>25551 rows × 5 columns</p>\n",
       "</div>"
      ],
      "text/plain": [
       "             DATE  PRCP  TMAX  TMIN   RAIN\n",
       "0      1948-01-01  0.47    51    42   True\n",
       "1      1948-01-02  0.59    45    36   True\n",
       "2      1948-01-03  0.42    45    35   True\n",
       "3      1948-01-04  0.31    45    34   True\n",
       "4      1948-01-05  0.17    45    32   True\n",
       "...           ...   ...   ...   ...    ...\n",
       "25546  2017-12-10  0.00    49    34  False\n",
       "25547  2017-12-11  0.00    49    29  False\n",
       "25548  2017-12-12  0.00    46    32  False\n",
       "25549  2017-12-13  0.00    48    34  False\n",
       "25550  2017-12-14  0.00    50    36  False\n",
       "\n",
       "[25551 rows x 5 columns]"
      ]
     },
     "execution_count": 53,
     "metadata": {},
     "output_type": "execute_result"
    }
   ],
   "source": [
    "df"
   ]
  },
  {
   "cell_type": "code",
   "execution_count": 61,
   "metadata": {},
   "outputs": [],
   "source": [
    "def heuristic(df):\n",
    "    \"\"\"\n",
    "    If it rain the past day then will predict PRCP with the mean else will put it as 0.00\n",
    "    \n",
    "    The frist row will be the mean\n",
    "    \"\"\"\n",
    "    \n",
    "    preds = []\n",
    "    \n",
    "    for x in range(len(df)):\n",
    "        if x<1:\n",
    "            preds.append(df['PRCP'].mean())\n",
    "        else:\n",
    "            # If either of last day == True then predict True\n",
    "            if (df.iloc[x-1][\"RAIN\"] == True):\n",
    "                preds.append(df['PRCP'].mean())\n",
    "            else:\n",
    "                preds.append(0.00)\n",
    "    return preds\n"
   ]
  },
  {
   "cell_type": "code",
   "execution_count": 74,
   "metadata": {},
   "outputs": [
    {
     "data": {
      "text/plain": [
       "0        0.106222\n",
       "1        0.106222\n",
       "2        0.106222\n",
       "3        0.106222\n",
       "4        0.106222\n",
       "           ...   \n",
       "25546    0.000000\n",
       "25547    0.000000\n",
       "25548    0.000000\n",
       "25549    0.000000\n",
       "25550    0.000000\n",
       "Name: preds, Length: 25551, dtype: float64"
      ]
     },
     "execution_count": 74,
     "metadata": {},
     "output_type": "execute_result"
    }
   ],
   "source": [
    "df[\"preds\"] = heuristic(df)\n",
    "df[\"preds\"]"
   ]
  },
  {
   "cell_type": "code",
   "execution_count": 78,
   "metadata": {},
   "outputs": [],
   "source": [
    "my_mse = mse(df[\"PRCP\"], df[\"preds\"])"
   ]
  },
  {
   "cell_type": "code",
   "execution_count": 79,
   "metadata": {},
   "outputs": [],
   "source": [
    "df[\"baseline\"] = df[\"PRCP\"].mean()\n",
    "basline_mse = mse(df[\"PRCP\"], df[\"baseline\"])"
   ]
  },
  {
   "cell_type": "code",
   "execution_count": 80,
   "metadata": {},
   "outputs": [
    {
     "name": "stdout",
     "output_type": "stream",
     "text": [
      "MSE of baseline: 0.05712709378012533\n",
      "MSE of my predictions: 0.05620863725183053\n"
     ]
    }
   ],
   "source": [
    "print(f\"MSE of baseline: {basline_mse}\\nMSE of my predictions: {my_mse}\")\n"
   ]
  },
  {
   "cell_type": "code",
   "execution_count": null,
   "metadata": {},
   "outputs": [],
   "source": []
  }
 ],
 "metadata": {
  "colab": {
   "collapsed_sections": [],
   "name": "02_assignment_cost.ipynb",
   "provenance": []
  },
  "kernelspec": {
   "display_name": "Python 3",
   "language": "python",
   "name": "python3"
  },
  "language_info": {
   "codemirror_mode": {
    "name": "ipython",
    "version": 3
   },
   "file_extension": ".py",
   "mimetype": "text/x-python",
   "name": "python",
   "nbconvert_exporter": "python",
   "pygments_lexer": "ipython3",
   "version": "3.8.5"
  }
 },
 "nbformat": 4,
 "nbformat_minor": 4
}
