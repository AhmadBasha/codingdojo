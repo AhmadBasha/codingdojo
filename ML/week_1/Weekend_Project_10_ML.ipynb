{
 "cells": [
  {
   "cell_type": "code",
   "execution_count": 19,
   "metadata": {},
   "outputs": [],
   "source": [
    "%%capture\n",
    "!pip install category_encoders\n",
    "import seaborn as sns\n",
    "import pandas as pd\n",
    "import numpy as np\n",
    "import matplotlib.pyplot as plt\n",
    "import category_encoders as ce\n",
    "from sklearn.linear_model import LinearRegression, LogisticRegression\n",
    "from sklearn.preprocessing import StandardScaler\n",
    "from sklearn.model_selection import train_test_split\n",
    "from sklearn.pipeline import make_pipeline\n",
    "from sklearn.metrics import mean_squared_error, mean_absolute_error, accuracy_score, accuracy_score, recall_score, precision_score\n",
    "df_r = sns.load_dataset(\"tips\").dropna()\n",
    "df_c = sns.load_dataset(\"titanic\").dropna()\n",
    "model_r = LinearRegression()\n",
    "model_c = LogisticRegression()\n",
    "x_train_r, x_test_r, y_train_r, y_test_r = train_test_split(df_r.drop(\"total_bill\", axis=1), df_r[\"total_bill\"])\n",
    "x_train_c, x_test_c, y_train_c, y_test_c = train_test_split(df_c.drop([\"survived\", \"alive\", \"adult_male\"], axis=1), df_c[\"survived\"])\n",
    "pipe_r = make_pipeline(ce.OrdinalEncoder(), StandardScaler(), LinearRegression()).fit(x_train_r, y_train_r)\n",
    "pipe_c = make_pipeline(ce.OrdinalEncoder(), StandardScaler(), LogisticRegression()).fit(x_train_c, y_train_c)\n",
    "y_pred_r = pipe_r.predict(x_test_r)\n",
    "y_pred_c = pipe_c.predict(x_test_c)"
   ]
  },
  {
   "cell_type": "markdown",
   "metadata": {
    "id": "JA6ub2bZemNP"
   },
   "source": [
    "# Weekend Project 10\n",
    "\n",
    "## Group 4 Members:\n",
    "    1- Abdullah Albutih\n",
    "    2- Mohammed Albesher \n",
    "    3- Raghad Almeataz\n",
    "    4- Ahmed Altowairqi\n",
    "    5- Abdulrahman Aljubaylan\n",
    "\n",
    "For this weekend project you will will create 2 heuristic models.\n",
    "- 1 for the Titanic data (Classification)\n",
    "  - Predict whether a person will survive or not survive.\n",
    "- 1 for the Tips dataset (Regression)\n",
    "  - Predict the total bill for each customer\n",
    "\n",
    "You do not have to include all the columns in your feature set. \n",
    "\n",
    "## Steps to follow for training and testing your model:\n",
    "\n",
    "1. Split your dataset to train and test.\n",
    "\n",
    "    - This is a general split \"no need to identify the traget and the feature sets. <br /> <br />\n",
    "1. Use the training to build and tune \"adjust\" your heuristic model. \n",
    "    - This is the dataset the you with EDA to come up with a algorthim for your model.\n",
    "       <br /> <br /> **Note: The test set should be completely hidden to you at this point.** <br /> <br />\n",
    "    - The adjustment happens by chaning the condition inside your function \"if statements and otherwise\".\n",
    "    \n",
    "    - Once you are happy with the performance of you heuristic model, then you can test it. <br /> <br />\n",
    "\n",
    "1. Test your HM using the test split from your dataset. \n",
    "1. Report the baseline model for each HR.\n",
    "  - Classification (Majority Class)\n",
    "  - Regression (Mean of target)\n",
    "1. Compare your model with the Logistic Regression (Titanic) and Linear Regression (Tips)\n",
    "\n",
    "**Note:** You do not need to beat the accuracy of the models, but you are encouraged to try your best.\n",
    "\n",
    "**Note:** You do not have to create your own cost functions. Your will use the Scikit-learn cost functions to evaluate your model.\n",
    "\n",
    "---\n",
    "\n",
    "#### Resources\n",
    "- [Mean Squared Error](https://en.wikipedia.org/wiki/Mean_squared_error)\n",
    "- [Mean Absolute Error](https://en.wikipedia.org/wiki/Mean_absolute_error)\n",
    "- [Root Mean Squared Error](https://en.wikipedia.org/wiki/Root-mean-square_deviation)\n",
    "- [Residual Sum of Squares](https://en.wikipedia.org/wiki/Residual_sum_of_squares)\n",
    "- [Precision, Recall, Accuracy](https://en.wikipedia.org/wiki/Confusion_matrix)\n",
    "- [Scikit-Learn](https://scikit-learn.org/stable/index.html)"
   ]
  },
  {
   "cell_type": "markdown",
   "metadata": {
    "id": "N0gtvZ0xk50L"
   },
   "source": [
    "# Heuristic Model for Tips Dataset"
   ]
  },
  {
   "cell_type": "markdown",
   "metadata": {
    "id": "39_TltPpf60I"
   },
   "source": [
    "#### Regression Cost Functions\n",
    "\n",
    "- Use `y_test_r` as your true labels\n",
    "- Use `y_pred_r` as your predicted labels"
   ]
  },
  {
   "cell_type": "markdown",
   "metadata": {},
   "source": [
    "##### Baseline (Mean of target)"
   ]
  },
  {
   "cell_type": "code",
   "execution_count": 20,
   "metadata": {},
   "outputs": [
    {
     "name": "stdout",
     "output_type": "stream",
     "text": [
      "Baseline Model for Tips Dataset is:  19.785942622950824\n"
     ]
    }
   ],
   "source": [
    "x_train_r[\"baseline\"] = df_r[\"total_bill\"].mean()\n",
    "print(\"Baseline Model for Tips Dataset is: \", x_train_r.iloc[0][\"baseline\"])"
   ]
  },
  {
   "cell_type": "markdown",
   "metadata": {},
   "source": [
    "##### Heuristic Model"
   ]
  },
  {
   "cell_type": "code",
   "execution_count": 21,
   "metadata": {
    "id": "J-FZ9U-EmIZ8"
   },
   "outputs": [],
   "source": [
    "# Build your Heuristic model here\n",
    "def heuristic(data):    \n",
    "    preds = []\n",
    "\n",
    "    for x in range(len(data)):\n",
    "        # If first two rows then predict false\n",
    "            # If either of last two days == True then predict True\n",
    "            if  (data.iloc[x][\"day\"]== all([\"Sat\",\"Sun\"]))|(data.iloc[x][\"size\"] >=2):\n",
    "                \n",
    "                preds.append(20)\n",
    "            else:\n",
    "                preds.append(10)\n",
    "    return preds\n",
    "    "
   ]
  },
  {
   "cell_type": "code",
   "execution_count": 22,
   "metadata": {
    "id": "CVsRKC0ckxcg"
   },
   "outputs": [],
   "source": [
    "x_test= heuristic(x_test_r)"
   ]
  },
  {
   "cell_type": "markdown",
   "metadata": {},
   "source": [
    "##### Cost Functions"
   ]
  },
  {
   "cell_type": "code",
   "execution_count": 23,
   "metadata": {},
   "outputs": [
    {
     "name": "stdout",
     "output_type": "stream",
     "text": [
      "Cost Function for Heuristic Model\n",
      "MSE:  74.28140655737704\n",
      "MAE:  6.744262295081966\n",
      "RMSE:  8.618666170433627\n",
      "\n",
      "Cost Function for Baseline Model\n",
      "MSE:  80.71545351328048\n",
      "MAE:  6.940408716294903\n",
      "RMSE:  8.984177954230452\n",
      "\n",
      "Cost Function for Linear Regression Model\n",
      "MSE:  16.241250284029487\n",
      "MAE:  3.2944042076874505\n",
      "RMSE:  4.030043459322677\n"
     ]
    }
   ],
   "source": [
    "print (\"Cost Function for Heuristic Model\")\n",
    "print(\"MSE: \", mean_squared_error(y_test_r, x_test))\n",
    "print(\"MAE: \",mean_absolute_error(y_test_r,x_test))\n",
    "print(\"RMSE: \",mean_squared_error(y_test_r, x_test, squared=False))\n",
    "print (\"\\nCost Function for Baseline Model\")\n",
    "print(\"MSE: \", mean_squared_error(y_train_r,x_train_r[\"baseline\"]))\n",
    "print(\"MAE: \",mean_absolute_error(y_train_r,x_train_r[\"baseline\"]))\n",
    "print(\"RMSE: \",mean_squared_error(y_train_r, x_train_r[\"baseline\"], squared=False))\n",
    "print (\"\\nCost Function for Linear Regression Model\")\n",
    "print(\"MSE: \", mean_squared_error(y_test_r, y_pred_r))\n",
    "print(\"MAE: \",mean_absolute_error(y_test_r, y_pred_r))\n",
    "print(\"RMSE: \",mean_squared_error(y_test_r, y_pred_r, squared=False))"
   ]
  },
  {
   "cell_type": "markdown",
   "metadata": {
    "id": "lapMA-xTlHcS"
   },
   "source": [
    "# Heuristic Model for Titanic Dataset (Classification)"
   ]
  },
  {
   "cell_type": "markdown",
   "metadata": {
    "id": "fYpJ2jdYf-Et"
   },
   "source": [
    "#### Classification Cost Functions\n",
    "\n",
    "- Use `y_test_c` as your true labels\n",
    "- Use `y_pred_c` as your predicted labels"
   ]
  },
  {
   "cell_type": "markdown",
   "metadata": {},
   "source": [
    "##### Baseline (Majority Class)"
   ]
  },
  {
   "cell_type": "code",
   "execution_count": 24,
   "metadata": {
    "id": "EiUhvDL9l9Ka"
   },
   "outputs": [
    {
     "name": "stdout",
     "output_type": "stream",
     "text": [
      "Baseline Model for Titanic Dataset is:  1\n"
     ]
    }
   ],
   "source": [
    "x_test_c['baseline1']=df_c[\"survived\"].value_counts(normalize=True).index[0]\n",
    "print(\"Baseline Model for Titanic Dataset is: \", x_test_c.iloc[0][\"baseline1\"])"
   ]
  },
  {
   "cell_type": "markdown",
   "metadata": {},
   "source": [
    "##### Heuristic Model"
   ]
  },
  {
   "cell_type": "code",
   "execution_count": 25,
   "metadata": {
    "id": "AWTUxTaMluPE"
   },
   "outputs": [],
   "source": [
    "# Build your Heuristic model here\n",
    "def heuristic(data):\n",
    "    \n",
    "    preds = []\n",
    "    \n",
    "    for x in range(len(data)):\n",
    "\n",
    "        if (data.iloc[x]['age'] <36) or (data.iloc[x]['sex'] =='female'):\n",
    "            preds.append(1)\n",
    "        else:\n",
    "            preds.append(0)\n",
    "    return preds\n",
    "\n",
    "pred_ct=heuristic(x_test_c)"
   ]
  },
  {
   "cell_type": "markdown",
   "metadata": {},
   "source": [
    "##### Cost Functions"
   ]
  },
  {
   "cell_type": "code",
   "execution_count": 26,
   "metadata": {},
   "outputs": [
    {
     "name": "stdout",
     "output_type": "stream",
     "text": [
      "Heuristic Model for Titanic Dataset\n",
      "Accuracy Score:  0.7608695652173914\n",
      "Precision Score:  0.7916666666666666\n",
      "Recall Score:  0.76\n",
      "\n",
      "Baseline Model for Titanic Dataset\n",
      "Accuracy Score:   0.5434782608695652\n",
      "Precision Score:  0.5434782608695652\n",
      "Recall Score:  1.0\n",
      "\n",
      "Logistic Regression Model for Titanic Dataset\n",
      "Accuracy Score:  0.6739130434782609\n",
      "Precision Score:  0.65625\n",
      "Recall Score:  0.84\n"
     ]
    }
   ],
   "source": [
    "# Add your cost functions for your Heuristic Model here\n",
    "print(\"Heuristic Model for Titanic Dataset\")\n",
    "print(\"Accuracy Score: \",accuracy_score(y_test_c, pred_ct))\n",
    "print(\"Precision Score: \",precision_score(y_test_c, pred_ct))\n",
    "print(\"Recall Score: \",recall_score(y_test_c, pred_ct))\n",
    "print(\"\\nBaseline Model for Titanic Dataset\")\n",
    "print(\"Accuracy Score:  \",accuracy_score(y_test_c, x_test_c['baseline1']))\n",
    "print(\"Precision Score: \",precision_score(y_test_c,x_test_c['baseline1']))\n",
    "print(\"Recall Score: \",recall_score(y_test_c, x_test_c['baseline1']))\n",
    "print(\"\\nLogistic Regression Model for Titanic Dataset\")\n",
    "print(\"Accuracy Score: \",accuracy_score(y_test_c, y_pred_c))\n",
    "print(\"Precision Score: \",precision_score(y_test_c, y_pred_c))\n",
    "print(\"Recall Score: \",recall_score(y_test_c, y_pred_c))"
   ]
  }
 ],
 "metadata": {
  "colab": {
   "collapsed_sections": [],
   "name": "Weekend Project 10.ipynb",
   "provenance": []
  },
  "kernelspec": {
   "display_name": "Python 3",
   "language": "python",
   "name": "python3"
  },
  "language_info": {
   "codemirror_mode": {
    "name": "ipython",
    "version": 3
   },
   "file_extension": ".py",
   "mimetype": "text/x-python",
   "name": "python",
   "nbconvert_exporter": "python",
   "pygments_lexer": "ipython3",
   "version": "3.8.5"
  }
 },
 "nbformat": 4,
 "nbformat_minor": 4
}
