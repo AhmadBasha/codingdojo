{
 "cells": [
  {
   "cell_type": "code",
   "execution_count": 1,
   "metadata": {},
   "outputs": [],
   "source": [
    "import pandas as pd\n",
    "import numpy as np\n",
    "import matplotlib.pyplot as plt\n",
    "import seaborn as sns\n",
    "\n",
    "from sklearn.model_selection import train_test_split\n",
    "from sklearn.linear_model import LinearRegression\n",
    "\n",
    "# Cost Functions\n",
    "from sklearn.metrics import mean_squared_error\n",
    "from sklearn.metrics import mean_absolute_error\n",
    "\n",
    "# Scalers\n",
    "from sklearn.preprocessing import StandardScaler\n",
    "from sklearn.preprocessing import RobustScaler\n",
    "from sklearn.preprocessing import MinMaxScaler\n",
    "\n",
    "# Feature Engineering\n",
    "from sklearn.preprocessing import OneHotEncoder\n",
    "from sklearn.preprocessing import OrdinalEncoder\n",
    "\n",
    "# Plot style\n",
    "plt.style.use(\"seaborn-whitegrid\")"
   ]
  },
  {
   "cell_type": "code",
   "execution_count": 2,
   "metadata": {},
   "outputs": [],
   "source": [
    "# Load Data\n",
    "df = sns.load_dataset(\"diamonds\")\n",
    "\n",
    "# Split Data\n",
    "train, test = train_test_split(\n",
    "    df, \n",
    "    train_size = .80,\n",
    "    test_size =.20,\n",
    "    random_state=42\n",
    ")\n",
    "\n",
    "train, val = train_test_split(\n",
    "    train,\n",
    "    train_size = .80,\n",
    "    test_size = .20,\n",
    "    random_state=42\n",
    ")"
   ]
  },
  {
   "cell_type": "code",
   "execution_count": 3,
   "metadata": {},
   "outputs": [
    {
     "name": "stdout",
     "output_type": "stream",
     "text": [
      "<class 'pandas.core.frame.DataFrame'>\n",
      "RangeIndex: 53940 entries, 0 to 53939\n",
      "Data columns (total 10 columns):\n",
      " #   Column   Non-Null Count  Dtype   \n",
      "---  ------   --------------  -----   \n",
      " 0   carat    53940 non-null  float64 \n",
      " 1   cut      53940 non-null  category\n",
      " 2   color    53940 non-null  category\n",
      " 3   clarity  53940 non-null  category\n",
      " 4   depth    53940 non-null  float64 \n",
      " 5   table    53940 non-null  float64 \n",
      " 6   price    53940 non-null  int64   \n",
      " 7   x        53940 non-null  float64 \n",
      " 8   y        53940 non-null  float64 \n",
      " 9   z        53940 non-null  float64 \n",
      "dtypes: category(3), float64(6), int64(1)\n",
      "memory usage: 3.0 MB\n"
     ]
    }
   ],
   "source": [
    "# we can see here we have threre categories variables \n",
    "df.info()"
   ]
  },
  {
   "cell_type": "code",
   "execution_count": 4,
   "metadata": {},
   "outputs": [],
   "source": [
    "# return all columns except the category\n",
    "def cleaner(df):\n",
    "    \"Return Only Numeric Features\"\n",
    "    \n",
    "    # Create boolean array with only columns that are float64\n",
    "    columns_bool = (df.dtypes != \"category\").values\n",
    "\n",
    "    # Return only numeric columns\n",
    "    df = df.iloc[:, columns_bool].dropna()\n",
    "\n",
    "    return df\n",
    "\n",
    "\n",
    "# for cost functions\n",
    "def calc_cost(y_true, y_predict):\n",
    "    \n",
    "    \"Calculate Cost Functions and print output\"\n",
    "    \n",
    "    result_dict = {}\n",
    "    \n",
    "    mse = mean_squared_error(y_true, y_predict)\n",
    "    mae = mean_absolute_error(y_true, y_predict)\n",
    "    rmse = mean_squared_error(y_true, y_predict, squared=False)\n",
    "    \n",
    "    ls = [mse, mae, rmse]\n",
    "    ls2 = [\"MSE\", \"MAE\", \"RMSE\"]\n",
    "    \n",
    "    for x in range(len(ls)):\n",
    "        print(f\"{ls2[x]}: {ls[x]}\")\n",
    "        result_dict[ls2[x]] = ls[x]\n",
    "    \n",
    "    return result_dict\n"
   ]
  },
  {
   "cell_type": "code",
   "execution_count": 5,
   "metadata": {},
   "outputs": [],
   "source": [
    "train_numeric = cleaner(train)\n",
    "val_numeric = cleaner(val)\n",
    "test_numeric = cleaner(test)"
   ]
  },
  {
   "cell_type": "code",
   "execution_count": 6,
   "metadata": {},
   "outputs": [],
   "source": [
    "# Create X, y train and validation sets\n",
    "\n",
    "target = \"price\"\n",
    "# for the train \n",
    "X_train = train_numeric.drop(target, axis=1)\n",
    "y_train = train_numeric[target]\n",
    "# validiation \n",
    "X_val = val_numeric.drop(target, axis=1)\n",
    "y_val = val_numeric[target]\n",
    "# test \n",
    "X_test = test_numeric.drop(target, axis=1)\n",
    "y_test = test_numeric[target]\n"
   ]
  },
  {
   "cell_type": "markdown",
   "metadata": {},
   "source": [
    "# Standard Scaler"
   ]
  },
  {
   "cell_type": "code",
   "execution_count": 7,
   "metadata": {},
   "outputs": [],
   "source": [
    "# Create scaler object\n",
    "scaler = StandardScaler()\n",
    "\n",
    "# Apply it to the train , validation and test \n",
    "X_train_scaled = scaler.fit_transform(X_train)\n",
    "X_val_scaled = scaler.transform(X_val)\n",
    "X_test_scaled = scaler.transform(X_test)"
   ]
  },
  {
   "cell_type": "code",
   "execution_count": 8,
   "metadata": {},
   "outputs": [
    {
     "data": {
      "text/plain": [
       "LinearRegression()"
      ]
     },
     "execution_count": 8,
     "metadata": {},
     "output_type": "execute_result"
    }
   ],
   "source": [
    "# Train the first model\n",
    "lr = LinearRegression()\n",
    "lr.fit(X_train_scaled, y_train)"
   ]
  },
  {
   "cell_type": "code",
   "execution_count": 9,
   "metadata": {},
   "outputs": [
    {
     "data": {
      "text/plain": [
       "0.8661014078099777"
      ]
     },
     "execution_count": 9,
     "metadata": {},
     "output_type": "execute_result"
    }
   ],
   "source": [
    "# validiation\n",
    "lr.score(X_val_scaled, y_val)"
   ]
  },
  {
   "cell_type": "code",
   "execution_count": 10,
   "metadata": {},
   "outputs": [
    {
     "data": {
      "text/plain": [
       "0.8661014078099777"
      ]
     },
     "execution_count": 10,
     "metadata": {},
     "output_type": "execute_result"
    }
   ],
   "source": [
    "# test\n",
    "lr.score(X_val_scaled, y_val)"
   ]
  },
  {
   "cell_type": "code",
   "execution_count": 11,
   "metadata": {},
   "outputs": [
    {
     "name": "stdout",
     "output_type": "stream",
     "text": [
      "MSE: 2109905.5491603212\n",
      "MAE: 874.8336552092414\n",
      "RMSE: 1452.5513929497715\n"
     ]
    }
   ],
   "source": [
    "# for the validition \n",
    "result_val = calc_cost(y_val, lr.predict(X_val_scaled))"
   ]
  },
  {
   "cell_type": "code",
   "execution_count": 12,
   "metadata": {},
   "outputs": [
    {
     "name": "stdout",
     "output_type": "stream",
     "text": [
      "MSE: 2242411.878050298\n",
      "MAE: 889.4218078106036\n",
      "RMSE: 1497.4684898355283\n"
     ]
    }
   ],
   "source": [
    "# for the Test\n",
    "result_test = calc_cost(y_test, lr.predict(X_test_scaled))"
   ]
  },
  {
   "cell_type": "markdown",
   "metadata": {},
   "source": [
    "# Robust Scaler"
   ]
  },
  {
   "cell_type": "code",
   "execution_count": 13,
   "metadata": {},
   "outputs": [
    {
     "data": {
      "text/plain": [
       "<AxesSubplot:>"
      ]
     },
     "execution_count": 13,
     "metadata": {},
     "output_type": "execute_result"
    },
    {
     "data": {
      "image/png": "[encoded data removed]",
      "text/plain": [
       "<Figure size 432x288 with 1 Axes>"
      ]
     },
     "metadata": {},
     "output_type": "display_data"
    },
    {
     "data": {
      "image/png": "[encoded data removed]",
      "text/plain": [
       "<Figure size 432x288 with 1 Axes>"
      ]
     },
     "metadata": {},
     "output_type": "display_data"
    }
   ],
   "source": [
    "# here the outliers , and this Scaler to deal wit them\n",
    "# The two plots down , they are just example\n",
    "df[[\"table\"]].plot(kind=\"box\")\n",
    "df[[\"carat\"]].plot(kind=\"box\")"
   ]
  },
  {
   "cell_type": "code",
   "execution_count": 14,
   "metadata": {},
   "outputs": [],
   "source": [
    "# Create scaler object\n",
    "scaler_r = RobustScaler()\n",
    "\n",
    "# Apply it to the train , validation and test \n",
    "X_train_robust = scaler_r.fit_transform(X_train)\n",
    "X_val_robust = scaler_r.transform(X_val)\n",
    "X_test_robust = scaler_r.transform(X_test)"
   ]
  },
  {
   "cell_type": "code",
   "execution_count": 15,
   "metadata": {},
   "outputs": [
    {
     "data": {
      "text/plain": [
       "LinearRegression()"
      ]
     },
     "execution_count": 15,
     "metadata": {},
     "output_type": "execute_result"
    }
   ],
   "source": [
    "# train the second Model \n",
    "lr_r = LinearRegression()\n",
    "lr_r.fit(X_train_robust, y_train)"
   ]
  },
  {
   "cell_type": "code",
   "execution_count": 16,
   "metadata": {},
   "outputs": [
    {
     "data": {
      "text/plain": [
       "0.8661014078099777"
      ]
     },
     "execution_count": 16,
     "metadata": {},
     "output_type": "execute_result"
    }
   ],
   "source": [
    "# Validation\n",
    "lr_r.score(X_val_robust, y_val)"
   ]
  },
  {
   "cell_type": "code",
   "execution_count": 17,
   "metadata": {},
   "outputs": [
    {
     "data": {
      "text/plain": [
       "0.8589396072085458"
      ]
     },
     "execution_count": 17,
     "metadata": {},
     "output_type": "execute_result"
    }
   ],
   "source": [
    "# test\n",
    "lr_r.score(X_test_robust, y_test)"
   ]
  },
  {
   "cell_type": "code",
   "execution_count": 18,
   "metadata": {},
   "outputs": [
    {
     "name": "stdout",
     "output_type": "stream",
     "text": [
      "MSE: 2109905.5491603217\n",
      "MAE: 874.8336552092413\n",
      "RMSE: 1452.5513929497715\n"
     ]
    }
   ],
   "source": [
    "# for the validition \n",
    "result_val_r = calc_cost(y_val, lr_r.predict(X_val_robust))"
   ]
  },
  {
   "cell_type": "code",
   "execution_count": 19,
   "metadata": {},
   "outputs": [
    {
     "name": "stdout",
     "output_type": "stream",
     "text": [
      "MSE: 2242411.878050298\n",
      "MAE: 889.4218078106034\n",
      "RMSE: 1497.4684898355283\n"
     ]
    }
   ],
   "source": [
    "# for the test\n",
    "result_test_r = calc_cost(y_test, lr_r.predict(X_test_robust))"
   ]
  },
  {
   "cell_type": "markdown",
   "metadata": {},
   "source": [
    "# Min Max Scaler"
   ]
  },
  {
   "cell_type": "code",
   "execution_count": 20,
   "metadata": {},
   "outputs": [],
   "source": [
    "# Create scaler object\n",
    "scaler_mm = MinMaxScaler()\n",
    "\n",
    "# Apply it to the train , validation and test \n",
    "X_train_mm = scaler_mm.fit_transform(X_train)\n",
    "X_val_mm = scaler_mm.transform(X_val)\n",
    "X_test_mm = scaler_mm.transform(X_test)"
   ]
  },
  {
   "cell_type": "code",
   "execution_count": 21,
   "metadata": {},
   "outputs": [
    {
     "data": {
      "text/plain": [
       "LinearRegression()"
      ]
     },
     "execution_count": 21,
     "metadata": {},
     "output_type": "execute_result"
    }
   ],
   "source": [
    "# train the Third Model \n",
    "lr_mm = LinearRegression()\n",
    "lr_mm.fit(X_train_mm, y_train)"
   ]
  },
  {
   "cell_type": "code",
   "execution_count": 22,
   "metadata": {},
   "outputs": [
    {
     "data": {
      "text/plain": [
       "0.8661014078099777"
      ]
     },
     "execution_count": 22,
     "metadata": {},
     "output_type": "execute_result"
    }
   ],
   "source": [
    "# validation\n",
    "lr_mm.score(X_val_mm, y_val)"
   ]
  },
  {
   "cell_type": "code",
   "execution_count": 23,
   "metadata": {},
   "outputs": [
    {
     "data": {
      "text/plain": [
       "0.8589396072085458"
      ]
     },
     "execution_count": 23,
     "metadata": {},
     "output_type": "execute_result"
    }
   ],
   "source": [
    "#test\n",
    "lr_mm.score(X_test_mm, y_test)"
   ]
  },
  {
   "cell_type": "code",
   "execution_count": 24,
   "metadata": {},
   "outputs": [
    {
     "name": "stdout",
     "output_type": "stream",
     "text": [
      "MSE: 2109905.5491603217\n",
      "MAE: 874.8336552092411\n",
      "RMSE: 1452.5513929497715\n"
     ]
    }
   ],
   "source": [
    "# for the validition \n",
    "result_val_mm = calc_cost(y_val, lr_mm.predict(X_val_mm))"
   ]
  },
  {
   "cell_type": "code",
   "execution_count": 25,
   "metadata": {},
   "outputs": [
    {
     "name": "stdout",
     "output_type": "stream",
     "text": [
      "MSE: 15091904.089211367\n",
      "MAE: 2466.133129581301\n",
      "RMSE: 3884.8299948918443\n"
     ]
    }
   ],
   "source": [
    "# for the test\n",
    "result_test_mm = calc_cost(y_test, lr_r.predict(X_test_mm))"
   ]
  },
  {
   "cell_type": "markdown",
   "metadata": {},
   "source": [
    "# Coefficients"
   ]
  },
  {
   "cell_type": "code",
   "execution_count": 29,
   "metadata": {},
   "outputs": [
    {
     "data": {
      "image/png": "[encoded data removed]",
      "text/plain": [
       "<Figure size 720x360 with 3 Axes>"
      ]
     },
     "metadata": {},
     "output_type": "display_data"
    }
   ],
   "source": [
    "fig, ax = plt.subplots(1,3)\n",
    "\n",
    "pd.Series(lr.coef_).plot(kind=\"bar\", title=\"Coefficients lr\", ax=ax[0])\n",
    "pd.Series(lr_r.coef_).plot(kind=\"bar\", title=\"Coefficients lr_r\", ax=ax[1])\n",
    "pd.Series(lr_mm.coef_).plot(kind=\"bar\", title=\"Coefficients lr_mm\", ax=ax[2], figsize=(10,5))\n",
    "plt.tight_layout();"
   ]
  },
  {
   "cell_type": "code",
   "execution_count": 26,
   "metadata": {},
   "outputs": [
    {
     "name": "stdout",
     "output_type": "stream",
     "text": [
      "------- Validation -------\n",
      "\n",
      "Standard Scaler: \n",
      "MSE: 2109905.5491603212\n",
      "MAE: 874.8336552092414\n",
      "RMSE: 1452.5513929497715\n",
      "\n",
      "Robust Scaler: \n",
      "MSE: 2109905.5491603217\n",
      "MAE: 874.8336552092413\n",
      "RMSE: 1452.5513929497715\n",
      "\n",
      "Min Max Scaler: \n",
      "MSE: 2109905.5491603217\n",
      "MAE: 874.8336552092411\n",
      "RMSE: 1452.5513929497715\n"
     ]
    }
   ],
   "source": [
    "print(\"------- Validation -------\\n\")\n",
    "print(\"Standard Scaler: \")\n",
    "result_val = calc_cost(y_val, lr.predict(X_val_scaled))\n",
    "print(\"\\nRobust Scaler: \")\n",
    "result_val_r = calc_cost(y_val, lr_r.predict(X_val_robust))\n",
    "print(\"\\nMin Max Scaler: \")\n",
    "result_val_mm = calc_cost(y_val, lr_mm.predict(X_val_mm))\n"
   ]
  },
  {
   "cell_type": "code",
   "execution_count": 27,
   "metadata": {},
   "outputs": [
    {
     "name": "stdout",
     "output_type": "stream",
     "text": [
      "------- Test -------\n",
      "\n",
      "Standard Scaler: \n",
      "MSE: 2242411.878050298\n",
      "MAE: 889.4218078106036\n",
      "RMSE: 1497.4684898355283\n",
      "\n",
      "Robust Scaler: \n",
      "MSE: 2242411.878050298\n",
      "MAE: 889.4218078106034\n",
      "RMSE: 1497.4684898355283\n",
      "\n",
      "Min Max Scaler: \n",
      "MSE: 15091904.089211367\n",
      "MAE: 2466.133129581301\n",
      "RMSE: 3884.8299948918443\n"
     ]
    }
   ],
   "source": [
    "print(\"------- Test -------\\n\")\n",
    "print(\"Standard Scaler: \")\n",
    "result_test = calc_cost(y_test, lr.predict(X_test_scaled))\n",
    "print(\"\\nRobust Scaler: \")\n",
    "result_test_r = calc_cost(y_test, lr_r.predict(X_test_robust))\n",
    "print(\"\\nMin Max Scaler: \")\n",
    "result_test_mm = calc_cost(y_test, lr_r.predict(X_test_mm))"
   ]
  }
 ],
 "metadata": {
  "kernelspec": {
   "display_name": "Python 3",
   "language": "python",
   "name": "python3"
  },
  "language_info": {
   "codemirror_mode": {
    "name": "ipython",
    "version": 3
   },
   "file_extension": ".py",
   "mimetype": "text/x-python",
   "name": "python",
   "nbconvert_exporter": "python",
   "pygments_lexer": "ipython3",
   "version": "3.8.5"
  }
 },
 "nbformat": 4,
 "nbformat_minor": 4
}
