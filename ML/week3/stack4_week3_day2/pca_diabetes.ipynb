{
 "cells": [
  {
   "cell_type": "markdown",
   "metadata": {
    "id": "view-in-github"
   },
   "source": [
    "<a href=\"https://colab.research.google.com/github/gumdropsteve/intro_to_machine_learning/blob/main/day_12/02_pca_assignment.ipynb\" target=\"_parent\"><img src=\"https://colab.research.google.com/assets/colab-badge.svg\" alt=\"Open In Colab\"/></a>"
   ]
  },
  {
   "cell_type": "code",
   "execution_count": 1,
   "metadata": {
    "id": "KTUHqa5QpbKZ"
   },
   "outputs": [],
   "source": [
    "import pandas as pd\n",
    "\n",
    "# Additional Imports here\n",
    "import seaborn as sns\n",
    "import matplotlib.pyplot as plt\n",
    "\n",
    "# train test split \n",
    "from sklearn.model_selection import train_test_split\n",
    "\n",
    "# Logistic Regression\n",
    "from sklearn.linear_model import LogisticRegression\n",
    "\n",
    "# Pipeline\n",
    "from sklearn.pipeline import Pipeline\n",
    "from sklearn.pipeline import make_pipeline\n",
    "from sklearn.compose import ColumnTransformer\n",
    "\n",
    "# Scalers\n",
    "from sklearn.preprocessing import StandardScaler\n",
    "\n",
    "# PCA\n",
    "from sklearn.decomposition import PCA\n",
    "\n",
    "#Grid Search\n",
    "from sklearn.model_selection import GridSearchCV\n"
   ]
  },
  {
   "cell_type": "markdown",
   "metadata": {
    "id": "J4JJUVjJtU7h"
   },
   "source": [
    "<center><H1>PCA With Diabetes Dataset</H1></center>\n",
    "\n",
    "<p align=\"center\">\n",
    "  <img width=\"500\" height=\"200\" src=\"https://i.gifer.com/H7zW.gif\">\n",
    "</p>\n",
    "\n",
    "\n",
    "👉🏼 [Data Dictionary](https://www.kaggle.com/uciml/pima-indians-diabetes-database) 👈🏼\n",
    "\n",
    "<center><H3>Steps (Must be performed in this order)</H></center>\n",
    "\n",
    "1. [Split Data](https://scikit-learn.org/stable/modules/generated/sklearn.model_selection.train_test_split.html)\n",
    "2. EDA (Show us your opinion of the 2 best plots explaining the most important insights int the data). \n",
    "    - **Plots Require**:\n",
    "        - Title\n",
    "        - Axis Labels\n",
    "        - Legend\n",
    "        - A short explanation why it is important as if you were explaining it to someone who has never seen the plot before and is unfamiliar with the data.\n",
    "3. Determine Baseline Model\n",
    "4. [Scale Data](https://scikit-learn.org/stable/modules/generated/sklearn.preprocessing.StandardScaler.html)\n",
    "5. [Create Logistic Regression Model](https://scikit-learn.org/stable/modules/generated/sklearn.linear_model.LogisticRegression.html)\n",
    "6. Compare Results to Baseline\n",
    "7. [Perform PCA](https://scikit-learn.org/stable/modules/generated/sklearn.decomposition.PCA.html)\n",
    "8. Use Your Principal Components for a Logistic Regression Model\n",
    "9. Compare Results to Baseline and previous Logistic Regression Model without PCA and provide an explanation of what the results mean and the point of PCA\n",
    "\n",
    "✨BONUS✨\n",
    " - Create a Scree Plot (You will probably have to research this)"
   ]
  },
  {
   "cell_type": "code",
   "execution_count": 2,
   "metadata": {
    "colab": {
     "base_uri": "https://localhost:8080/",
     "height": 136
    },
    "id": "WxF0nLIsq3er",
    "outputId": "fb3f3ed1-5f5b-46f8-95f9-39ee1792cafe"
   },
   "outputs": [
    {
     "data": {
      "text/html": [
       "<div>\n",
       "<style scoped>\n",
       "    .dataframe tbody tr th:only-of-type {\n",
       "        vertical-align: middle;\n",
       "    }\n",
       "\n",
       "    .dataframe tbody tr th {\n",
       "        vertical-align: top;\n",
       "    }\n",
       "\n",
       "    .dataframe thead th {\n",
       "        text-align: right;\n",
       "    }\n",
       "</style>\n",
       "<table border=\"1\" class=\"dataframe\">\n",
       "  <thead>\n",
       "    <tr style=\"text-align: right;\">\n",
       "      <th></th>\n",
       "      <th>Pregnancies</th>\n",
       "      <th>Glucose</th>\n",
       "      <th>BloodPressure</th>\n",
       "      <th>SkinThickness</th>\n",
       "      <th>Insulin</th>\n",
       "      <th>BMI</th>\n",
       "      <th>DiabetesPedigreeFunction</th>\n",
       "      <th>Age</th>\n",
       "      <th>Outcome</th>\n",
       "    </tr>\n",
       "  </thead>\n",
       "  <tbody>\n",
       "    <tr>\n",
       "      <th>33</th>\n",
       "      <td>6</td>\n",
       "      <td>92</td>\n",
       "      <td>92</td>\n",
       "      <td>0</td>\n",
       "      <td>0</td>\n",
       "      <td>19.9</td>\n",
       "      <td>0.188</td>\n",
       "      <td>28</td>\n",
       "      <td>0</td>\n",
       "    </tr>\n",
       "    <tr>\n",
       "      <th>270</th>\n",
       "      <td>10</td>\n",
       "      <td>101</td>\n",
       "      <td>86</td>\n",
       "      <td>37</td>\n",
       "      <td>0</td>\n",
       "      <td>45.6</td>\n",
       "      <td>1.136</td>\n",
       "      <td>38</td>\n",
       "      <td>1</td>\n",
       "    </tr>\n",
       "    <tr>\n",
       "      <th>43</th>\n",
       "      <td>9</td>\n",
       "      <td>171</td>\n",
       "      <td>110</td>\n",
       "      <td>24</td>\n",
       "      <td>240</td>\n",
       "      <td>45.4</td>\n",
       "      <td>0.721</td>\n",
       "      <td>54</td>\n",
       "      <td>1</td>\n",
       "    </tr>\n",
       "  </tbody>\n",
       "</table>\n",
       "</div>"
      ],
      "text/plain": [
       "     Pregnancies  Glucose  BloodPressure  SkinThickness  Insulin   BMI  \\\n",
       "33             6       92             92              0        0  19.9   \n",
       "270           10      101             86             37        0  45.6   \n",
       "43             9      171            110             24      240  45.4   \n",
       "\n",
       "     DiabetesPedigreeFunction  Age  Outcome  \n",
       "33                      0.188   28        0  \n",
       "270                     1.136   38        1  \n",
       "43                      0.721   54        1  "
      ]
     },
     "execution_count": 2,
     "metadata": {},
     "output_type": "execute_result"
    }
   ],
   "source": [
    "df = pd.read_csv(\"https://raw.githubusercontent.com/mpHarm88/datasets/master/diabetes.csv\")\n",
    "df.sample(3)"
   ]
  },
  {
   "cell_type": "code",
   "execution_count": 3,
   "metadata": {
    "id": "BA1kZ7ppLtZt"
   },
   "outputs": [
    {
     "data": {
      "text/plain": [
       "(768, 9)"
      ]
     },
     "execution_count": 3,
     "metadata": {},
     "output_type": "execute_result"
    }
   ],
   "source": [
    "# 768 so , we will divide to train and test because we have to less rows \n",
    "df.shape"
   ]
  },
  {
   "cell_type": "markdown",
   "metadata": {},
   "source": [
    "### Split Data"
   ]
  },
  {
   "cell_type": "code",
   "execution_count": 4,
   "metadata": {},
   "outputs": [],
   "source": [
    "# split to train & test \n",
    "\n",
    "train,test = train_test_split(\n",
    "    df,\n",
    "    train_size=0.8, \n",
    "    random_state=42)"
   ]
  },
  {
   "cell_type": "markdown",
   "metadata": {},
   "source": [
    "### EDA\n",
    "\n",
    "![](https://www.cdc.gov/healthyweight/images/assessing/bmi-adult-fb-600x315.jpg)"
   ]
  },
  {
   "cell_type": "markdown",
   "metadata": {},
   "source": [
    "### First EDA"
   ]
  },
  {
   "cell_type": "code",
   "execution_count": 5,
   "metadata": {},
   "outputs": [],
   "source": [
    "#See the heigher mean for the top 10 BMI for each age.\n",
    "\n",
    "#group with Age and take the mean with BMI sort to take the first 10 and reset the index\n",
    "train_mean = train.groupby([\"Age\"]).BMI.mean().sort_values(ascending=False).head(10).reset_index()"
   ]
  },
  {
   "cell_type": "markdown",
   "metadata": {},
   "source": [
    "We can see people with age 43 has the highest mean for obesity.<br />\n",
    "Also , people with 40's have higher mean than others."
   ]
  },
  {
   "cell_type": "code",
   "execution_count": 6,
   "metadata": {},
   "outputs": [
    {
     "data": {
      "image/png": "[encoded data removed]",
      "text/plain": [
       "<Figure size 720x576 with 1 Axes>"
      ]
     },
     "metadata": {
      "needs_background": "light"
     },
     "output_type": "display_data"
    }
   ],
   "source": [
    "plt.figure(figsize = (10,8))\n",
    "sns.barplot(\n",
    "    data=train_mean, \n",
    "    x=\"Age\",\n",
    "    y=\"BMI\",\n",
    "    order=train_mean.sort_values('BMI',ascending = False).Age\n",
    "    \n",
    ")\n",
    "\n",
    "plt.title(\"Top 10 Ages That Extremely Obese\")\n",
    "plt.ylabel(\"The mean of BMI\") # x axis label\n",
    "plt.xlabel(\"Age\") # y axis label\n",
    "plt.show()"
   ]
  },
  {
   "cell_type": "markdown",
   "metadata": {},
   "source": [
    "### Second EDA"
   ]
  },
  {
   "cell_type": "markdown",
   "metadata": {},
   "source": [
    "![](https://i0.wp.com/images-prod.healthline.com/hlcmsresource/images/topic_centers/2018-10/9842-blood-pressure-readings-explained-1296x1645-body.20181002181105178.jpg?w=1155&h=3454)"
   ]
  },
  {
   "cell_type": "code",
   "execution_count": 7,
   "metadata": {},
   "outputs": [],
   "source": [
    "# in the dataset we use Diastolic blood pressure \n",
    "\n",
    "#take the people that have blood pressure less than 80\n",
    "normal_elevated = train[train[\"BloodPressure\"]< 80]\n",
    "\n",
    "#take the people that have high blood pressure stage 1\n",
    "high_bp_stage_1 = high_bp_stage_2 = train[(train[\"BloodPressure\"]> 79) & (train[\"BloodPressure\"]<= 89)]\n",
    "\n",
    "\n",
    "#take the people that have high blood pressure stage 2\n",
    "high_bp_stage_2 = train[(train[\"BloodPressure\"]> 89) & (train[\"BloodPressure\"]<= 120)]\n",
    "\n",
    "\n",
    "# take the people that have hypertensive\n",
    "hypertensive = train[train[\"BloodPressure\"]> 120]\n",
    "\n",
    "\n",
    "#group with BloodPressure and take the mean with BMI and reset the index for each group\n",
    "\n",
    "normal_elevated_mean = normal_elevated.groupby([\"BloodPressure\"]).BMI.mean().sort_values(ascending=False).reset_index()\n",
    "high_bp_stage_1_mean = high_bp_stage_1.groupby([\"BloodPressure\"]).BMI.mean().sort_values(ascending=False).reset_index()\n",
    "high_bp_stage_2_mean = high_bp_stage_2.groupby([\"BloodPressure\"]).BMI.mean().sort_values(ascending=False).reset_index()\n",
    "hypertensive_mean = hypertensive.groupby([\"BloodPressure\"]).BMI.mean().sort_values(ascending=False).reset_index()\n"
   ]
  },
  {
   "cell_type": "code",
   "execution_count": 8,
   "metadata": {},
   "outputs": [],
   "source": [
    "# take the mean for each one and create the label value\n",
    "BMI_mean = [normal_elevated_mean[\"BMI\"].mean(), \n",
    "            high_bp_stage_1_mean[\"BMI\"].mean(), \n",
    "            high_bp_stage_2_mean[\"BMI\"].mean(),\n",
    "            hypertensive_mean[\"BMI\"].mean(),\n",
    "           ]\n",
    "# label and x-axis\n",
    "labels = [\"Normal & Elevated\", \"High Blood Pressure Stage 1\",\n",
    "          \"High Blood Pressure Stage 2\", \"Hypertensive Crisis\"]"
   ]
  },
  {
   "cell_type": "markdown",
   "metadata": {},
   "source": [
    "Here we see while people gain more weight, blood pressure will increase. <br />\n",
    "For Hypertensive Crisis , here the dataset has just have one value with blood pressure more than 120, so , this is why we see it lower than others."
   ]
  },
  {
   "cell_type": "code",
   "execution_count": 9,
   "metadata": {},
   "outputs": [
    {
     "data": {
      "image/png": "[encoded data removed]",
      "text/plain": [
       "<Figure size 720x576 with 1 Axes>"
      ]
     },
     "metadata": {
      "needs_background": "light"
     },
     "output_type": "display_data"
    }
   ],
   "source": [
    "plt.figure(figsize = (10,8))\n",
    "sns.barplot(\n",
    "    x=labels,\n",
    "    y=BMI_mean,\n",
    "    \n",
    ")\n",
    "\n",
    "plt.title(\"Blood Pressure With Mean BMI\")\n",
    "plt.ylabel(\"The mean of BMI\") # x axis label\n",
    "plt.xlabel(\"Blood Pressure\") # y axis label\n",
    "plt.show()"
   ]
  },
  {
   "cell_type": "markdown",
   "metadata": {},
   "source": [
    "# Now this secion for diabetes"
   ]
  },
  {
   "cell_type": "markdown",
   "metadata": {},
   "source": [
    "![](data:image/jpeg;base64,/9j/4AAQSkZJRgABAQAAAQABAAD/2wCEAAoHCBUVFRgSFRIYGRgYGBgYGBkYGRgaGBgYGBgaGRoYGBgcIS4lHB4rHxgYJjgmKy8xNTU1GiQ7QDszPy40NTEBDAwMEA8QHxISHjQrJSsxNDY1NDY0NDY0NDQ0NDQ0NDQxPTQ0NDQ0NDQ0NDQ0NDY0NDQ0NDQ0NDQ0NDQ0NDQ0NP/AABEIAKsBJwMBIgACEQEDEQH/xAAbAAABBQEBAAAAAAAAAAAAAAABAAMEBQYCB//EADoQAAIBAgQEAwcDAwMEAwAAAAECAAMRBBIhMQVBUWEGcYETIjKRobHBQtHwYnLhFFKyBzOCkhUj8f/EABoBAAIDAQEAAAAAAAAAAAAAAAADAQIEBQb/xAApEQADAAICAgIBBAEFAAAAAAAAAQIDERIhBDEiQZETUWFx8AUUMkKB/9oADAMBAAIRAxEAPwD18QiAQiQSdTmKCVJQbxQRQJDFBFIAMUENoAdRTmdQAInc4E6lkVYzXGkz+MFmmjqSnx2FLbTL5Mcl0afGpS+x3h9a4k8iVeBold5aJL4t8eyMySroIinQERWO0J2cxRGC8AOoIopYqKKKKBAooooAGKCKSQGKKKACnU5igB1EYooAcmKIxQAAigivILBgivFKkiivBeKBKFFFBeQWHlndowrzsPLJoo0zopBadBorw0iNsAnU5nUlAzhpwVvHiIJDRKYwKccVZ1ecl5GkgbbOwIjGjUgNSTsjR004LWlbiOLDZde99PTrK/E8aCi5IEasX7kfL6RfNiFGpM4GLB2t85icV4kzAlGzW2Cob+V9osFxwKgFRHLcyBprrzjJiWVqbS2bVcat8p0JvbvaO0qwa4G40ImCxvGlW7Le4sEBG9/WTeFcRbV73zMW7dB5aAS7wJroU7qfZtIpW0OIg6/OTkrqecRWOpLTkljsUEMoMFFFFAAxQRQAM6nMUACYYooANwXgMEgk6ggigWDATBeAmVJDeC85JgJkFkdEwqY2WhRpUsO550KkaYgamRauM5CRVqfYTDr0iwNYDcxxKgOxmcrYo9YcHjiGAvFryPloa/FfHaNEz2jZqQVDGSZobMySHS0bLRXnDGQSdXne4t1jQM4rYgKL3lol0+iraRjOP0atAgDKwJstjr/5DcSvw3B3c567G24QbfLl9/KXQ/8AtfOddfdmswvDkCgMLnnG1rffYz9RpaRk6eERRYINPOB8Kh5EeRmqqcHQ7aSvxPBW5ay81IiuT+zKYrhqsLaN2YfYyD7F0a6OUb/a2qn/AB/NJpamDddwfXWRa+HDAgrryI5GPmv2EW36ZHwHFC10dclRLXB2II0IPeWOF4iRz2/Gh/Eo67BqBqW96iFIPM0nNmU9QGIYdLt1kahigTodxmH2P4j5SpGPJuXtG7wnEuV9vsdpaUsUrTz/AAeKOYi/L7H/ADLvDYsm385xV4Uy8ZmjWxSDgcTf3TJsxVLl6N0UqWwxQRSpYMMEMAFFFFABowQQSCTq8V5zeK8CQmAxXgMqSAxBSdo4tO+p2nNSpblpIp6LSmwCj1MLBVF9/ORamLHWQ6+L03iayJD5w1QMbi7G0r3xHODE1QYxRpNUNlUk/T5zK26Z0YiYnsFSuTLfgvDixFRxZRqo69/KPcO4GqkNU1P+39I8+svuU0YsHfKvwZfI8pa4R+SNVOsZZp1iDrGGaaGYUPK04czlTA5gA1i8UqLdueg+V/xM/jeImoLLsxsOV+pt0l/jMGtVDTbS+x0uD1F5kEZQ4XNcC4B2ub79r6zTia46KNLezT+HsHc5yNF0HnLbFoylqwLMVpsFpj4WO97AXLGwH23kfhmPohVUMFPMN7uvnsZOxFEutg7ob3DIVv8AUEEdiIut77DZS0OKPnCBjUzAL7ymkFqm5y6rcAKrEggnVRreWvDsWaisSoUq5Q2bMpItcqxAuLkjbcEcpWYngjZmyhHDqQTWGYq5LMXChcrEnLpp8Ki4AAkiphgPZ0FzAKBlexGUgatmvZmIB5cz3lVsHotWQHcAzLeJMq3VB71so/vfRR6XBmjxNYU0Lb2Fhc6k7C55zBYviN6x97/thjfQ3diAd+gYjzY9JowS29mfNWloeHh3NTen7fIzoE0XMq6jQ6gnbtMbjsHWwdRVrIQA1g41RwdLqdvTftNUnFDmGvffpJh4k6sqsxZC2VkYKQQdALka7+Wk18aT6MdXLXZncNU9/wA1P4/aaThVO4v/AD+Xhp8Do1mLqWptcjKuXLtrZbaeQMvsLw9UGUNe0LyJdfZWYb7GqKWlrQe47yIFEcpm0zX8kaYfFkuKJTeKZmtGpPaDFFFAkMUUUAI8ERgkEhgvFFABR5FtqZyumpjFSteUqtDJhsdepeR3eMvVjLVoiqNU4yNiaTbiVdR3LWC69pf02+sKYRC2caE/KK4cmaFl4rtEPA8MGhc37cvWX9BAosAAO0hU1sd5MRxNMKZ9GHLd29seEd5RpDHOUcIZCrjWNZJIqLrCqyuidjQSctTkkLI2JxAXSFNJdkzLp6RB4ni/Zq3XKSPkbTN8G4KcQGdqhRFJUZQpdmsCbZgQFAI5G+u1tXePM9RgqEEhGJU3uwUFsq/1WBsOcqOCeJ2pKUADKTmsTbUgDRhy0Gn+Y7G05+PsLhw9Mm8QwtTCOqu6ujXsw0IC2vmU/CQGB0JB7Sww+KdPhcr2B0+W0z/EuIvXcO9tBZVHwqDvbqTzMCcRdVCjLoLA21t87fSaJTa7M1+9o2mG4+40ZVby90/tLShxik25Kn+ofkaTF8G8LrXpCtVq1AzklQmT3UBIBbOrZid+1wOVzC4zw44V1QV3ZWUkG5RlKkAg5TY7ixsOcpxinpEbtLZfeLOOge4rDQaHkOrny2HU9rzy+lxQnEbnKVKDzuGufkfnO+KY/OSqnT9RuST5k7ysVbHNbpbtrGytaUi67TdGroPfnrLJsWpW7F9PUemuh9JnMLiuTaW5/vLDOLDp8ydb6TTNGSpNVQxgzlSujFjYE2UsRlI7gAn15S/wOLzC7HXQeZAsTMDTrnQHS3Lme3bl+OstcPjCO3rv2AtrK1CoJpybGi3f+fwx9Zm8HjiN5dUMUCJnqGh02mWFJ49K9awkunWBiak0Reuh4RRRRI9PYYoooARYoJC4pjhSRn0uAbAm0gkmO4G5A84UYE+U8iXiWJx+JFNHJuTa1wiDmxA3AnqVGn7KmqFy7AC7ndj1lXQyY7JNepK96usar4g9ZG9oWawBJ6AXmens2ROkPVK0Cn6zh1INmBHmLQhxFscta6J1KkT0A6n8Q1KLDW916i8iPiwMq/Pv/DLDDYwN7v8APOMlJ9Cq5rsbWr3jyPzjf+jFyw+X5H7TtRI017KNy/Q8KkJxVtLxtiLSsxWIynWS7coJxq2XBxI5xNiwJSjGjrGcTjQBe97G8P1WW/2y+yRjOKkmynQb2lHjOKkEgnfbz5j8/OQWxdje+kpeL4gkEXtzBvcdiDOnkxzWPSObiyVjzbZe8KqCo7VSxHs7ZSDazNfW/UAHTuJluNYNldnQWDMSF6XN5d4Oi1GgjOLe0u4vpcC2tumu8i4pmcqiLmd2VEHVmNhfoNdTyF4YolY0gz5brK6Xol+DfD5xSu7h1yNlDZmAYkXyrY20GpuD8Q9IHGmGGrGkXzgfquNwSGGnMEW2E9QarSwOHpo7AAZaYa1szEasQNtiSZn+J+FMJiDmalkY/qpsU31uF1X6RU0097eizaa00tmZ4d4uNBMgKstyVDX90k3OWxGl9bG8pOL8aqYl7klibKAB30VQO5Pzmmf/AKa0i1xiqgXoVUn/ANhb7TS8C8MYbC2ZEzP/AL31f05L6S7uV2hXFs89r+EcUlMVWpHa5UEFkHdev2lKaew7/QT3oTMeJ/C6Vl9pRVUdQTYADP205y+PMvTF5MTfaPMKq/UGdJWZbZSdRqOU6dDnIIIy3Wx015wKm01Gcl4bG7DNl9B95aYarzJ+epPnM9k0tJeFqcj97QVMo5RqKWLtt8zLDDY89ZladT+Ekyxw1UDnJ6INZh8TpvJqYqZuhipMXEyjnYKtGno4vSxkxKo5mZEYs8jbv0jnCuIE3RmuRqp3PcRVYNrY2czl6NcDFIvDquZB20hmOp09G+K3OzvFZKaNUY2VQSfSeN+LuOvU9wMffJ9F6TXePeKNlSmGIViTbqBzPrPNcntK6r5D5n/Eq31sbM6ej0vwJw1KFEPYZ3AJPQchNBWOYxvhWGARR0A+kntTHSJe2jStJlJWRukk8NqheWpOvkLWH3k5qN5HxGGIGZdSNx1HMRaT2N5S1pk6rldbEb/OVZwDA6EZeR5+sdw2IW17w1McB3k1SfsrM1L1JDxeDIGdfeI3HUdu8Yw2MtqNfxLpauYXA32lNxTAlQaib7so/wCSyGtehk1vqibhcSb3J1k7LcZgNeY69xMvhqt7TQ4Ova0if2ZXItdo7+LSVHEOF1KrgZgqD9Q1c9gNvUmXjWPvLv8AeQnxQGhOsmkvsiKr/qN0uD0VFmzN3ZiP+No6vD6A2pj1JP3M4/1a9YDjF8oLRLVP22PHheHvf2FO/dFP3ED8Ow50NCnb+xP2karxJQN5DTiTMxVFLW3tsPMnQf4l1VU9IW4mVunos8RgqLAK1JGCrlUMoIVR+lb7DsJGwuEwtCoKvslUrfKVX4SRa+UdiR6yuxPE2T41ZL6AkaX6Zhpf1jP+qzbmS3cvsvMY7Xva/g58W1ziGFRbmmi2UEWuTYs1vQDyEm+GMbnp+zJ95LDzQ/D8rEeglTxXiCpSfa5BCjqSNJB4Lj/Z1Ff9LAK39rW+xsfSbsKrJiaf16OZ5ajDlXH7XZ6EpjimR1eOq0ToNjwMcBjKmOAyCSm454ZpYkFrZKltHHP+4c55txLhlTDv7OotiNj+lu4M9lBjOLwiVVKVEDKeo+3SOx5nPT9CbxKu17PFQm84K22m1414MdLvQJddyh+MeXWZJ6RBIIII3BFj8psm5pbRlqXL7Dh6l/OTEeVypY/WSEcyxVlpSrmTKWJMqEbrOFxgvYddxLIoy8bE294joDYg/TrH6eKUFWDAdND9ZSVqth3594cNckGWSKUz0jgdf4hfkDFKfhNawv1+winH8m0sjO14uJvEjOf9QqlnpryCG3zma8MIGxahtrX+U0f/AFHYE0nHIMp+8xfDa+SvTe/6gD6mVX/Ac38j3Gg40AkwSlweIFh5SySqDEbNDklbzoL3jIqARCreGxemU3GMMynOp90/EP8AaevkYzhRfUm8vKiggg7HQjrM475GKX0B0PUcpVpbHxT1ot6VcLpyjmh94sO3aUj4jTQ/4kCtxIqDY6DeDJU7JGNCpVJUjKdbf7TzHlJqYrTQzO0sWDmJOa+h7Aa/tHcPjLc4Itcr6NLSxVtzKTxDncq9G5YmzKvMW0b8eonDY4HvfQDrJGB9y7t8TaW5KN/nG48TutGfLmWKd/ZnK/EqlEhat0JFwG3I6/SMv4lTbOfQH9pbeJ8H7VVqWuUuD/aT+D95m34WCNvWal4iMr85tHGI8Qk6JfzY2mj4FjSaK3crcnW9hnvb3uoPXlpMbWwWQ6gjvvJfDMVa6NcrmvodAbW+W00Yccw/Rk8nJWSfZuqWJzXpvrfTXW/9LA8+/P5Sg43wurTHtKNRsguSg3HlfW3aT8KNLEkjYeVjYHoRaW+FfMMr/FyOl2HUje803E17RijLcPptHltHFOzMHcseRJv8po8AbqPJftI3izgpoVBXQe45ysOSOdj/AGn6HzEdwb2Fuy/YSsLXQy65/I3XBMZnSxPvJYHuOR/nSWq1JjeE4ko6nkfdbyP7TWxGWEmMx22iWlSSEeVymPJUiHI5WWCmdgyNTePAxbWhqezsGV3FeCUcQPfSzcnXRh685YgwgwTae0DSfTPMuM+FatE5l99P9yg3A/qWUpBHI+Z/E9omb8T+HKdWk7omSpa+ZdL211GxmqM++qM14ddo8sxGNucib9ZJwy5BrqeQ/MX+i9lqFJ/qteFSTyN5rS0ZW0/Q+mpudT9pPwI+Uj0aWUXYan1MnUBlAHXU+Urkv9OHT/xlsWP9XIpX/v8ARcYerYQRmmukM4FNt7PRzMpaGfFfDmq4diNWSzAdbb29J5jiWtYA69us9JxPEG2J0mY43w5ahzoAGG42zf5mia10Iud9oufDPHc6BSffXQjr3E1+GxvO88VyPTa9mVhzmv8AD3Ga72R6TsDs6Ix/9hb6yKjfotGb6o9FGKvHlxMzT1nQ2dSp5XBEJx/eJctD00zQVsTcAA7m37yp4q4bbkNPKR//AJAaXO1/rIdbGg+Y+okJF+kMVajbXjSagqeYI+cFVwYKL+9YS6Qp0yuw1Mg25y5w+BJ+JsvpcyRSpKuoAvzMdvOhh8Na5V+Dk+R/qL25x/k7oYVE1uSe8I1N43eJWtNU4ZlfEwV5FW90ywSiCCDsRb5ykTD2JQ7gkdjaWSYm0j4lwHzW91vityYfq+X2kzLT7Jdql0VWNwN72GvT+bzM1KWRz0YfUf4+03bgEfa34lPxDAI/xaG+jDQ3/Ms52RN69j3DMY9Uf9onJa5QDfXUgmxBF/KXLeyT3y92GuhJsb6XtqTfkNeUyWDwz03ylzkfQkE+hI/m81GGoojgMbsNVUXZhpbM1hobaC+2vXSy9di6S30O4nCe2pvTZdHUg3tm7MSNAQbEAbW67YHA1Sjmm/xobMO4npqCyk3FzsNxdhy7b/IzF8Y4WRiHZVp3bKSWUlhoNOm4v6yPbLy9LTJmGcETT8MxWdMpPvLoe45GY7D4d13ZLdhb6gy3wWJKkMpUm1it9x2hUcpInJxo1AaENIuBxS1BpoRup3El5Zlc6emaVW1tDtN7SZSe8q2eS8KYq10Ox09lgDOgY2DOgYgedAwwAxAwAyvHPDjFjUogEHUpsb/08vSZetQdD79N080I+tp6peNYrDLUQ03FwRaaZ8mpWn2Zq8aae10eTmpr/LmSaBJ849xbhbUHKHbdT1EZpTLnz1k6fS/Y3+PgnEtrtv7LGixEUaR4pl0bNmZONzC4M5pO7MFVSxOwEfxPBagxDUEQ3DaHllOxvN74Y8OLhxmb3nO56dhNUxsy1kSRW+HvCF7VMQLk7J085uMNhUQBVUADawnaCdXjEkvRmdOn2R8fh1dCGUHz1mdHB6LZgUsbG1iRr5TUsZUMMr7c/vJ0vsOTS6Zi3wygkW2JHPlOPYL0lnxulkqsAN9ZX3nSnFjqU9L8HIvyM001yf5GzhUPX5x2lTVfhH7/ADgvFmllhiXtJFK8jLS1VPX9jwaHPGc0OaM0K5D+aLNGA0IMjQch68Di4IvboekbDToNDRKoCZ7dex0PoR/mc1KJPIg99R8xHaPxaX15XP2kp6Z5MfkJTeh67WygrUyCARzl1wYAKWYgFrkk8gPTYARitTPnJOAQNYW90a+ZvoPIfgQfoCfTYkjIoGYHKbe8RpdyLaDbudOUpfEKMjIQDbKc1ted9t+Zue80eGW12O5+w2H1PqTBj8KHS2l7ix7k2/Mpvstx62ZHC1SRff637yetNG3FjOa3CypJAyEHUjVD3NtV87ec5K1VF8qMOoZvsAYz+he19kvDqyMGU5rdd7dL8x5y8o4sMLjTqDuJmaal93AHRX/Iyyww+Fy6o7X7sWU+Ya/0lMkbX8l4vT/gtqaFmlth6NhIvD0uAbby1Sc26e9HUhLWxq0Ij2WcmnFl9HIMIMRSC0AOgZ0JwIRACFxnhq10K/qGqnvPPK9FkYowsQZ6kDKLxJwgVV9og99fqJWp32Nx3xemYxHijBJBsYonRq2ej+wU+/lGYaX7R9I3h9j5ToTYc5j4MDPGiZwIaIJAaQMeLEGS1kbHbCBKKHxOvvI3UftKGabxMgyobdPtMwZ08L3CON5K1kYrxXgijxAbw3nMUCDu8V5xDAg7vDecQwA6Zja4NiNRHqfECRY02Zv6R977RgR3D7fzrE2acL2mhOztoVy/+RJ+QsJMwTgACRxz8o0DaVY1GhSsOsQrC+bkt7D+o6G3fl2v3Mo6TnrJ9H9Pn+DK6LFqq/D1ub97g39LkH0Eg4vhnvZqbFSdbD4SfLkf2kylHW3XzP8AxMjk0+gcprsoGpON7HzXX53E7pVfpvl1I/uUi4HzltxAe7m56a+srMWgsGtqOcbL5exTjj6LLh+Ky87qen3EuUrAzLYimMge1m6jQ/SWPC6hKKSb/wD7Mfk40vkjZ4uRv4sv1edq8g0zJCTGbiSIssaEdWAHJSDLHhFAjQxOWMeeNPJAyHibg2vtaY3OoH3gmpqwSvFDJyNI/9k=)"
   ]
  },
  {
   "cell_type": "markdown",
   "metadata": {},
   "source": [
    "### Determine Baseline Model"
   ]
  },
  {
   "cell_type": "code",
   "execution_count": 10,
   "metadata": {},
   "outputs": [],
   "source": [
    "# make X , y for train and test \n",
    "X_train = train.drop([\"Outcome\"], axis = 1)\n",
    "y_train = train[\"Outcome\"]\n",
    "\n",
    "X_test = test.drop([\"Outcome\"], axis = 1)\n",
    "y_test = test[\"Outcome\"]"
   ]
  },
  {
   "cell_type": "markdown",
   "metadata": {},
   "source": [
    "#### Baseline is 65%"
   ]
  },
  {
   "cell_type": "code",
   "execution_count": 11,
   "metadata": {},
   "outputs": [
    {
     "data": {
      "text/plain": [
       "0    0.653094\n",
       "1    0.346906\n",
       "Name: Outcome, dtype: float64"
      ]
     },
     "execution_count": 11,
     "metadata": {},
     "output_type": "execute_result"
    }
   ],
   "source": [
    "# This is the baseline \n",
    "y_train.value_counts(normalize=True)"
   ]
  },
  {
   "cell_type": "markdown",
   "metadata": {},
   "source": [
    "### Scale Data & Logistic Regression Model"
   ]
  },
  {
   "cell_type": "code",
   "execution_count": 12,
   "metadata": {},
   "outputs": [
    {
     "data": {
      "text/plain": [
       "0.7532467532467533"
      ]
     },
     "execution_count": 12,
     "metadata": {},
     "output_type": "execute_result"
    }
   ],
   "source": [
    "# Create a Pipeline\n",
    "pipe = make_pipeline(\n",
    "    StandardScaler(),\n",
    "    LogisticRegression()\n",
    ")\n",
    "\n",
    "pipe.fit(X_train,y_train)\n",
    "pipe.score(X_test, y_test)"
   ]
  },
  {
   "cell_type": "markdown",
   "metadata": {},
   "source": [
    "## Compare Results to Baseline\n",
    "Basline : 65% <br/>\n",
    "LRM without PCA : 75%"
   ]
  },
  {
   "cell_type": "markdown",
   "metadata": {},
   "source": [
    "# Perform PCA for Logistic Regression Model"
   ]
  },
  {
   "cell_type": "code",
   "execution_count": 13,
   "metadata": {},
   "outputs": [],
   "source": [
    "# Create a Pipeline and create PCA\n",
    "pipe_with_pca = make_pipeline(\n",
    "    StandardScaler(),\n",
    "    PCA(),\n",
    "    LogisticRegression()\n",
    ")"
   ]
  },
  {
   "cell_type": "code",
   "execution_count": 14,
   "metadata": {},
   "outputs": [
    {
     "name": "stdout",
     "output_type": "stream",
     "text": [
      "Fitting 5 folds for each of 1600 candidates, totalling 8000 fits\n"
     ]
    },
    {
     "name": "stderr",
     "output_type": "stream",
     "text": [
      "[Parallel(n_jobs=-1)]: Using backend LokyBackend with 12 concurrent workers.\n",
      "[Parallel(n_jobs=-1)]: Done  26 tasks      | elapsed:    2.6s\n",
      "[Parallel(n_jobs=-1)]: Done 664 tasks      | elapsed:    4.4s\n",
      "[Parallel(n_jobs=-1)]: Done 2664 tasks      | elapsed:    9.5s\n",
      "[Parallel(n_jobs=-1)]: Done 5464 tasks      | elapsed:   15.3s\n",
      "[Parallel(n_jobs=-1)]: Done 8000 out of 8000 | elapsed:   20.1s finished\n"
     ]
    },
    {
     "data": {
      "text/plain": [
       "GridSearchCV(cv=5,\n",
       "             estimator=Pipeline(steps=[('standardscaler', StandardScaler()),\n",
       "                                       ('pca', PCA()),\n",
       "                                       ('logisticregression',\n",
       "                                        LogisticRegression())]),\n",
       "             n_jobs=-1,\n",
       "             param_grid={'logisticregression__C': [1, 0.9, 0.8, 0.7, 0.6, 0.5,\n",
       "                                                   0.4, 0.3, 0.2, 0.1],\n",
       "                         'logisticregression__max_iter': [100, 500, 1000, 2000,\n",
       "                                                          2500],\n",
       "                         'pca__n_components': [1, 2, 3, 4, 5, 6, 7, 8],\n",
       "                         'standardscaler__with_mean': [True, False],\n",
       "                         'standardscaler__with_std': [True, False]},\n",
       "             verbose=1)"
      ]
     },
     "execution_count": 14,
     "metadata": {},
     "output_type": "execute_result"
    }
   ],
   "source": [
    "#GridSearchCV\n",
    "param_grid = {\n",
    "    \"standardscaler__with_mean\": [True, False], \n",
    "    \"standardscaler__with_std\": [True, False],\n",
    "    \"pca__n_components\": [1,2,3,4,5,6,7,8], # 8  components explains the most variance\n",
    "    \"logisticregression__C\": [1, 0.9, 0.8, 0.7, 0.6, 0.5, 0.4, 0.3, 0.2, 0.1],\n",
    "    \"logisticregression__max_iter\": [100, 500, 1000, 2000, 2500]\n",
    "}\n",
    "\n",
    "grid = GridSearchCV(\n",
    "    pipe_with_pca, \n",
    "    param_grid=param_grid, \n",
    "    cv=5, \n",
    "    verbose=1, # Higher number means the training step show more output\n",
    "    n_jobs=-1 # Use all available cores on my computer \n",
    ")\n",
    "\n",
    "grid.fit(X_train,y_train)"
   ]
  },
  {
   "cell_type": "code",
   "execution_count": 15,
   "metadata": {},
   "outputs": [
    {
     "data": {
      "text/plain": [
       "{'logisticregression__C': 0.2,\n",
       " 'logisticregression__max_iter': 100,\n",
       " 'pca__n_components': 8,\n",
       " 'standardscaler__with_mean': True,\n",
       " 'standardscaler__with_std': False}"
      ]
     },
     "execution_count": 15,
     "metadata": {},
     "output_type": "execute_result"
    }
   ],
   "source": [
    "# Best Parameters\n",
    "grid.best_params_"
   ]
  },
  {
   "cell_type": "code",
   "execution_count": 16,
   "metadata": {},
   "outputs": [
    {
     "data": {
      "text/plain": [
       "0.7687724910035986"
      ]
     },
     "execution_count": 16,
     "metadata": {},
     "output_type": "execute_result"
    }
   ],
   "source": [
    "grid.best_score_"
   ]
  },
  {
   "cell_type": "markdown",
   "metadata": {},
   "source": [
    "## Compare Results to Baseline and LRM with and without PCA\n",
    "Basline : 65.30% <br/>\n",
    "LRM without PCA : 75.32% <br/>\n",
    "LRM with PCA : 76.87% <br/>\n",
    "\n",
    "# PCA :\n",
    "- improve the running time\n",
    "- Use 8 in n_component which means it use all features.\n",
    "- We see so littile bit improvment but for me i'll use smaller features and to get close result\n",
    "\n"
   ]
  },
  {
   "cell_type": "markdown",
   "metadata": {},
   "source": [
    "# Create a Scree Plot"
   ]
  },
  {
   "cell_type": "code",
   "execution_count": 18,
   "metadata": {},
   "outputs": [
    {
     "data": {
      "text/plain": [
       "PCA()"
      ]
     },
     "execution_count": 18,
     "metadata": {},
     "output_type": "execute_result"
    }
   ],
   "source": [
    "pca = PCA()\n",
    "pca.fit(X_train)"
   ]
  },
  {
   "cell_type": "code",
   "execution_count": 19,
   "metadata": {},
   "outputs": [
    {
     "data": {
      "image/png": "[encoded data removed]",
      "text/plain": [
       "<Figure size 720x576 with 1 Axes>"
      ]
     },
     "metadata": {},
     "output_type": "display_data"
    }
   ],
   "source": [
    "#This is the Scree Plot \n",
    "\n",
    "plt.style.use(\"seaborn\")\n",
    "plt.figure(figsize=(10,8))\n",
    "\n",
    "exp_var = pd.Series(pca.explained_variance_ratio_) \n",
    "exp_var.plot(kind=\"bar\", alpha=0.7) # plot bar chart\n",
    "\n",
    "# Calculate the amount of variance explained added by each additional component\n",
    "total = 0\n",
    "var_ls = []\n",
    "for x in exp_var:\n",
    "    total = total+x\n",
    "    var_ls.append(total)\n",
    "\n",
    "pd.Series(var_ls).plot(marker=\"s\", alpha=0.7) #plot line chart of increasing variances\n",
    "plt.xlabel(\"Principle Components\", fontsize=\"x-large\")\n",
    "plt.ylabel(\"Percentage Variance Explained\", fontsize=\"x-large\")\n",
    "plt.title(\"Diabetes Scree Plot\", fontsize=\"xx-large\")\n",
    "plt.show();"
   ]
  },
  {
   "cell_type": "markdown",
   "metadata": {},
   "source": [
    "### i'll perform the model again with 3 features "
   ]
  },
  {
   "cell_type": "code",
   "execution_count": 20,
   "metadata": {},
   "outputs": [
    {
     "name": "stdout",
     "output_type": "stream",
     "text": [
      "Fitting 5 folds for each of 200 candidates, totalling 1000 fits\n"
     ]
    },
    {
     "name": "stderr",
     "output_type": "stream",
     "text": [
      "[Parallel(n_jobs=-1)]: Using backend LokyBackend with 12 concurrent workers.\n",
      "[Parallel(n_jobs=-1)]: Done  28 tasks      | elapsed:    0.1s\n",
      "[Parallel(n_jobs=-1)]: Done 1000 out of 1000 | elapsed:    1.9s finished\n"
     ]
    },
    {
     "data": {
      "text/plain": [
       "GridSearchCV(cv=5,\n",
       "             estimator=Pipeline(steps=[('standardscaler', StandardScaler()),\n",
       "                                       ('pca', PCA()),\n",
       "                                       ('logisticregression',\n",
       "                                        LogisticRegression())]),\n",
       "             n_jobs=-1,\n",
       "             param_grid={'logisticregression__C': [1, 0.9, 0.8, 0.7, 0.6, 0.5,\n",
       "                                                   0.4, 0.3, 0.2, 0.1],\n",
       "                         'logisticregression__max_iter': [100, 500, 1000, 2000,\n",
       "                                                          2500],\n",
       "                         'pca__n_components': [3],\n",
       "                         'standardscaler__with_mean': [True, False],\n",
       "                         'standardscaler__with_std': [True, False]},\n",
       "             verbose=1)"
      ]
     },
     "execution_count": 20,
     "metadata": {},
     "output_type": "execute_result"
    }
   ],
   "source": [
    "#GridSearchCV\n",
    "param_grid_2 = {\n",
    "    \"standardscaler__with_mean\": [True, False], \n",
    "    \"standardscaler__with_std\": [True, False],\n",
    "    \"pca__n_components\":[3], # 8  components explains the most variance\n",
    "    \"logisticregression__C\": [1, 0.9, 0.8, 0.7, 0.6, 0.5, 0.4, 0.3, 0.2, 0.1],\n",
    "    \"logisticregression__max_iter\": [100, 500, 1000, 2000, 2500]\n",
    "}\n",
    "\n",
    "grid_2 = GridSearchCV(\n",
    "    pipe_with_pca, \n",
    "    param_grid=param_grid_2, \n",
    "    cv=5, \n",
    "    verbose=1, # Higher number means the training step show more output\n",
    "    n_jobs=-1 # Use all available cores on my computer \n",
    ")\n",
    "\n",
    "grid_2.fit(X_train,y_train)"
   ]
  },
  {
   "cell_type": "code",
   "execution_count": 21,
   "metadata": {},
   "outputs": [
    {
     "data": {
      "text/plain": [
       "{'logisticregression__C': 1,\n",
       " 'logisticregression__max_iter': 100,\n",
       " 'pca__n_components': 3,\n",
       " 'standardscaler__with_mean': True,\n",
       " 'standardscaler__with_std': False}"
      ]
     },
     "execution_count": 21,
     "metadata": {},
     "output_type": "execute_result"
    }
   ],
   "source": [
    "# Best Parameters\n",
    "grid_2.best_params_"
   ]
  },
  {
   "cell_type": "code",
   "execution_count": 22,
   "metadata": {},
   "outputs": [
    {
     "data": {
      "text/plain": [
       "0.7263627882180461"
      ]
     },
     "execution_count": 22,
     "metadata": {},
     "output_type": "execute_result"
    }
   ],
   "source": [
    "grid_2.best_score_"
   ]
  },
  {
   "cell_type": "markdown",
   "metadata": {},
   "source": [
    "It is 72.63% which is littile bit close from the previous one  "
   ]
  }
 ],
 "metadata": {
  "colab": {
   "name": "02_pca_assignment.ipynb",
   "provenance": []
  },
  "kernelspec": {
   "display_name": "Python 3",
   "language": "python",
   "name": "python3"
  },
  "language_info": {
   "codemirror_mode": {
    "name": "ipython",
    "version": 3
   },
   "file_extension": ".py",
   "mimetype": "text/x-python",
   "name": "python",
   "nbconvert_exporter": "python",
   "pygments_lexer": "ipython3",
   "version": "3.8.5"
  }
 },
 "nbformat": 4,
 "nbformat_minor": 4
}
